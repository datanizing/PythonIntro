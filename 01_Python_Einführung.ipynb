{
 "cells": [
  {
   "cell_type": "markdown",
   "metadata": {
    "toc": true
   },
   "source": [
    "<h1>Table of Contents<span class=\"tocSkip\"></span></h1>\n",
    "<div class=\"toc\"><ul class=\"toc-item\"><li><span><a href=\"#Python-und-Jupyter\" data-toc-modified-id=\"Python-und-Jupyter-1\"><span class=\"toc-item-num\">1&nbsp;&nbsp;</span>Python und Jupyter</a></span><ul class=\"toc-item\"><li><span><a href=\"#Erste-Schritte-mit-Jupyter\" data-toc-modified-id=\"Erste-Schritte-mit-Jupyter-1.1\"><span class=\"toc-item-num\">1.1&nbsp;&nbsp;</span>Erste Schritte mit Jupyter</a></span></li><li><span><a href=\"#Das-erste-Python-Programm\" data-toc-modified-id=\"Das-erste-Python-Programm-1.2\"><span class=\"toc-item-num\">1.2&nbsp;&nbsp;</span>Das erste Python Programm</a></span></li><li><span><a href=\"#Funktionalität-von-Jupyter\" data-toc-modified-id=\"Funktionalität-von-Jupyter-1.3\"><span class=\"toc-item-num\">1.3&nbsp;&nbsp;</span>Funktionalität von Jupyter</a></span></li><li><span><a href=\"#The-Zen-of-Python\" data-toc-modified-id=\"The-Zen-of-Python-1.4\"><span class=\"toc-item-num\">1.4&nbsp;&nbsp;</span>The Zen of Python</a></span></li><li><span><a href=\"#Python-2.7-vs.-Python-3.x\" data-toc-modified-id=\"Python-2.7-vs.-Python-3.x-1.5\"><span class=\"toc-item-num\">1.5&nbsp;&nbsp;</span>Python 2.7 vs. Python 3.x</a></span><ul class=\"toc-item\"><li><span><a href=\"#Print-Function\" data-toc-modified-id=\"Print-Function-1.5.1\"><span class=\"toc-item-num\">1.5.1&nbsp;&nbsp;</span>Print Function</a></span></li><li><span><a href=\"#Typ-Konvertierungen\" data-toc-modified-id=\"Typ-Konvertierungen-1.5.2\"><span class=\"toc-item-num\">1.5.2&nbsp;&nbsp;</span>Typ-Konvertierungen</a></span></li><li><span><a href=\"#Generator-Objekte-statt-Listen,-Dictionaries-etc.\" data-toc-modified-id=\"Generator-Objekte-statt-Listen,-Dictionaries-etc.-1.5.3\"><span class=\"toc-item-num\">1.5.3&nbsp;&nbsp;</span>Generator-Objekte statt Listen, Dictionaries etc.</a></span></li></ul></li><li><span><a href=\"#Einrückung-und-Zeilenumbrüche\" data-toc-modified-id=\"Einrückung-und-Zeilenumbrüche-1.6\"><span class=\"toc-item-num\">1.6&nbsp;&nbsp;</span>Einrückung und Zeilenumbrüche</a></span></li><li><span><a href=\"#Eingaben-über-die-Konsole\" data-toc-modified-id=\"Eingaben-über-die-Konsole-1.7\"><span class=\"toc-item-num\">1.7&nbsp;&nbsp;</span>Eingaben über die Konsole</a></span></li><li><span><a href=\"#Kommentare-und-Docstrings\" data-toc-modified-id=\"Kommentare-und-Docstrings-1.8\"><span class=\"toc-item-num\">1.8&nbsp;&nbsp;</span>Kommentare und Docstrings</a></span><ul class=\"toc-item\"><li><span><a href=\"#Kommentare\" data-toc-modified-id=\"Kommentare-1.8.1\"><span class=\"toc-item-num\">1.8.1&nbsp;&nbsp;</span>Kommentare</a></span></li><li><span><a href=\"#Docstring\" data-toc-modified-id=\"Docstring-1.8.2\"><span class=\"toc-item-num\">1.8.2&nbsp;&nbsp;</span>Docstring</a></span></li></ul></li><li><span><a href=\"#Namenskonventionen\" data-toc-modified-id=\"Namenskonventionen-1.9\"><span class=\"toc-item-num\">1.9&nbsp;&nbsp;</span>Namenskonventionen</a></span></li></ul></li><li><span><a href=\"#Kontrollstrukturen\" data-toc-modified-id=\"Kontrollstrukturen-2\"><span class=\"toc-item-num\">2&nbsp;&nbsp;</span>Kontrollstrukturen</a></span><ul class=\"toc-item\"><li><span><a href=\"#Operatoren-und-Bedingungen\" data-toc-modified-id=\"Operatoren-und-Bedingungen-2.1\"><span class=\"toc-item-num\">2.1&nbsp;&nbsp;</span>Operatoren und Bedingungen</a></span></li><li><span><a href=\"#If-Anweisung\" data-toc-modified-id=\"If-Anweisung-2.2\"><span class=\"toc-item-num\">2.2&nbsp;&nbsp;</span>If-Anweisung</a></span></li><li><span><a href=\"#While-Schleife\" data-toc-modified-id=\"While-Schleife-2.3\"><span class=\"toc-item-num\">2.3&nbsp;&nbsp;</span>While-Schleife</a></span></li><li><span><a href=\"#For-Schleife\" data-toc-modified-id=\"For-Schleife-2.4\"><span class=\"toc-item-num\">2.4&nbsp;&nbsp;</span>For-Schleife</a></span></li><li><span><a href=\"#Ausnahmebehandlung\" data-toc-modified-id=\"Ausnahmebehandlung-2.5\"><span class=\"toc-item-num\">2.5&nbsp;&nbsp;</span>Ausnahmebehandlung</a></span></li></ul></li><li><span><a href=\"#Einfache-Datentypen\" data-toc-modified-id=\"Einfache-Datentypen-3\"><span class=\"toc-item-num\">3&nbsp;&nbsp;</span>Einfache Datentypen</a></span><ul class=\"toc-item\"><li><span><a href=\"#Strings\" data-toc-modified-id=\"Strings-3.1\"><span class=\"toc-item-num\">3.1&nbsp;&nbsp;</span>Strings</a></span></li><li><span><a href=\"#Ausgabeformatierung\" data-toc-modified-id=\"Ausgabeformatierung-3.2\"><span class=\"toc-item-num\">3.2&nbsp;&nbsp;</span>Ausgabeformatierung</a></span><ul class=\"toc-item\"><li><span><a href=\"#String-Interpolation\" data-toc-modified-id=\"String-Interpolation-3.2.1\"><span class=\"toc-item-num\">3.2.1&nbsp;&nbsp;</span>String-Interpolation</a></span></li><li><span><a href=\"#String-Methode-&quot;format&quot;\" data-toc-modified-id=\"String-Methode-&quot;format&quot;-3.2.2\"><span class=\"toc-item-num\">3.2.2&nbsp;&nbsp;</span>String-Methode \"format\"</a></span></li></ul></li><li><span><a href=\"#Type-Casting\" data-toc-modified-id=\"Type-Casting-3.3\"><span class=\"toc-item-num\">3.3&nbsp;&nbsp;</span>Type-Casting</a></span></li></ul></li><li><span><a href=\"#Komplexe-Datentypen-(Collections)\" data-toc-modified-id=\"Komplexe-Datentypen-(Collections)-4\"><span class=\"toc-item-num\">4&nbsp;&nbsp;</span>Komplexe Datentypen (Collections)</a></span><ul class=\"toc-item\"><li><span><a href=\"#Listen\" data-toc-modified-id=\"Listen-4.1\"><span class=\"toc-item-num\">4.1&nbsp;&nbsp;</span>Listen</a></span><ul class=\"toc-item\"><li><span><a href=\"#Slicing\" data-toc-modified-id=\"Slicing-4.1.1\"><span class=\"toc-item-num\">4.1.1&nbsp;&nbsp;</span>Slicing</a></span></li><li><span><a href=\"#List-Comprehensions\" data-toc-modified-id=\"List-Comprehensions-4.1.2\"><span class=\"toc-item-num\">4.1.2&nbsp;&nbsp;</span>List Comprehensions</a></span></li><li><span><a href=\"#Verschachtelte-List-Comprehensions\" data-toc-modified-id=\"Verschachtelte-List-Comprehensions-4.1.3\"><span class=\"toc-item-num\">4.1.3&nbsp;&nbsp;</span>Verschachtelte List Comprehensions</a></span></li></ul></li><li><span><a href=\"#Generatoren\" data-toc-modified-id=\"Generatoren-4.2\"><span class=\"toc-item-num\">4.2&nbsp;&nbsp;</span>Generatoren</a></span></li><li><span><a href=\"#Tupel\" data-toc-modified-id=\"Tupel-4.3\"><span class=\"toc-item-num\">4.3&nbsp;&nbsp;</span>Tupel</a></span></li><li><span><a href=\"#Dictionaries\" data-toc-modified-id=\"Dictionaries-4.4\"><span class=\"toc-item-num\">4.4&nbsp;&nbsp;</span>Dictionaries</a></span></li><li><span><a href=\"#Dictionaries-mit-automatischer-Schlüsselgenerierung-(defaultdict)\" data-toc-modified-id=\"Dictionaries-mit-automatischer-Schlüsselgenerierung-(defaultdict)-4.5\"><span class=\"toc-item-num\">4.5&nbsp;&nbsp;</span>Dictionaries mit automatischer Schlüsselgenerierung (defaultdict)</a></span></li><li><span><a href=\"#Counter\" data-toc-modified-id=\"Counter-4.6\"><span class=\"toc-item-num\">4.6&nbsp;&nbsp;</span>Counter</a></span></li><li><span><a href=\"#Sets\" data-toc-modified-id=\"Sets-4.7\"><span class=\"toc-item-num\">4.7&nbsp;&nbsp;</span>Sets</a></span></li></ul></li><li><span><a href=\"#Funktionen-und-Module\" data-toc-modified-id=\"Funktionen-und-Module-5\"><span class=\"toc-item-num\">5&nbsp;&nbsp;</span>Funktionen und Module</a></span><ul class=\"toc-item\"><li><span><a href=\"#Funktionen\" data-toc-modified-id=\"Funktionen-5.1\"><span class=\"toc-item-num\">5.1&nbsp;&nbsp;</span>Funktionen</a></span></li><li><span><a href=\"#Anonyme-Funktionen:-Lambda\" data-toc-modified-id=\"Anonyme-Funktionen:-Lambda-5.2\"><span class=\"toc-item-num\">5.2&nbsp;&nbsp;</span>Anonyme Funktionen: Lambda</a></span></li><li><span><a href=\"#Module-(Packages)\" data-toc-modified-id=\"Module-(Packages)-5.3\"><span class=\"toc-item-num\">5.3&nbsp;&nbsp;</span>Module (Packages)</a></span></li></ul></li><li><span><a href=\"#Boolesche-Operatoren\" data-toc-modified-id=\"Boolesche-Operatoren-6\"><span class=\"toc-item-num\">6&nbsp;&nbsp;</span>Boolesche Operatoren</a></span></li><li><span><a href=\"#Dateizugriff\" data-toc-modified-id=\"Dateizugriff-7\"><span class=\"toc-item-num\">7&nbsp;&nbsp;</span>Dateizugriff</a></span><ul class=\"toc-item\"><li><span><a href=\"#Datei-öffnen-und-Inhalt-lesen\" data-toc-modified-id=\"Datei-öffnen-und-Inhalt-lesen-7.1\"><span class=\"toc-item-num\">7.1&nbsp;&nbsp;</span>Datei öffnen und Inhalt lesen</a></span></li><li><span><a href=\"#Öffnen-mit-with\" data-toc-modified-id=\"Öffnen-mit-with-7.2\"><span class=\"toc-item-num\">7.2&nbsp;&nbsp;</span>Öffnen mit <code>with</code></a></span></li><li><span><a href=\"#Binärdateien\" data-toc-modified-id=\"Binärdateien-7.3\"><span class=\"toc-item-num\">7.3&nbsp;&nbsp;</span>Binärdateien</a></span></li></ul></li><li><span><a href=\"#Nützliches\" data-toc-modified-id=\"Nützliches-8\"><span class=\"toc-item-num\">8&nbsp;&nbsp;</span>Nützliches</a></span></li></ul></div>"
   ]
  },
  {
   "cell_type": "markdown",
   "metadata": {},
   "source": [
    "\n",
    "# Einführung in Python  <div class=\"tocSkip\">\n",
    "\n",
    "Prof. Dr. Jens Albrecht, Dominik Wagner  \n",
    "Technische Hochschule Georg-Simon Ohm Nürnberg\n",
    "\n",
    "Dieses Notebook darf unter der Lizenz \n",
    "[Creative Commons Attribution-ShareAlike 4.0](http://creativecommons.org/licenses/by-sa/4.0/)\n",
    "weitergegeben und verändert werden.\n"
   ]
  },
  {
   "cell_type": "markdown",
   "metadata": {},
   "source": [
    "## Quellen und weiterführende Literatur <div class=\"tocSkip\">\n",
    "\n",
    "Joel Grus: *Data Science from Scratch*, O'Reilly, 2015  \n",
    "Hier ist insbesondere das Kapitel 2 *A Crash Course in Python* interessant, das die Basis für dieses Notebook bildet:  \n",
    "http://proquest.tech.safaribooksonline.de/book/databases/9781491901410/2dot-a-crash-course-in-python/python_html\n",
    "\n",
    "J.R. Johansson: *Scientific Python Lectures*  \n",
    "https://github.com/jrjohansson/scientific-python-lectures/blob/master/Lecture-1-Introduction-to-Python-Programming.ipynb\n",
    "\n",
    "Python Tutorials  \n",
    "http://www.tutorialspoint.com/python/  \n",
    "https://www.python-kurs.eu  \n",
    "\n",
    "\n",
    "Allen, die Python auf dem eigenen Rechner ausprobieren wollen, sei die **Anaconda-Distribution** ([anaconda.org](https://anaconda.org/)) empfohlen. Sie enthält ziemlich, was für Data Science benötigt wird, einschließlich des Jupyter Notebook Servers."
   ]
  },
  {
   "cell_type": "markdown",
   "metadata": {},
   "source": [
    "<a id='Python_und_Jupyter'></a>\n",
    "## Python und Jupyter\n"
   ]
  },
  {
   "cell_type": "markdown",
   "metadata": {},
   "source": [
    "### Erste Schritte mit Jupyter\n",
    "\n",
    "Jupyter basiert auf [iPython](https://ipython.org), einer interaktiven Python-Shell. Jupyter selbst ist eine Notebook-Applikation, in der ausführbarer Python-Code und Erläuterungen (wie diese hier) in Dokumenten, den Notebooks, gemischt werden können. Die einzelnen Blöcke im Notebook heißen Notes oder Cells. Blöcke mit Erläuterungen werden in [Markdown-Language](https://de.wikipedia.org/wiki/Markdown) geschrieben.\n",
    "Code-Blöcke enthalten ausführbaren Python-Code. Über die Menüleiste sowie `Esc-M` (Markdown) bzw. `Esc-Y` (Code) kann der Typ eines Blocks umgestellt werden.\n",
    "\n",
    "Jeder Block ist ausführbar. Um einen Block auszuführen, gibt es folgende Möglichkeiten:\n",
    "\n",
    "- `Ctrl-Enter`: Ausführen\n",
    "- `Shift-Enter`: Ausführen und Springen zum nächsten Block\n",
    "- Run-Cell-Kommando in der Menü-Leiste: wie `Shift-Enter`\n",
    "\n",
    "Probieren Sie es aus! Klicken Sie einmal doppelt in diesen Text und drücken Sie dann `Shift-Enter`.\n",
    "\n",
    "Welche weiteren Tastenkürzel es gibt, sehen Sie durch einen Klick über das Tastatur-Symbol in der Menüleiste oder durch ein [Cheat-Sheet](https://www.google.de/search?q=jupyter+cheat+sheet).\n",
    "\n",
    "\n",
    "### Das erste Python Programm\n",
    "\n",
    "Python ist eine Interpretersprache. D.h. jedes Kommando wird an den (im Hintergrund laufenden) Interpreter gegeben und ausgeführt. \n",
    "\n",
    "Probieren Sie es aus! (`Shift-Enter`)"
   ]
  },
  {
   "cell_type": "code",
   "execution_count": null,
   "metadata": {
    "ExecuteTime": {
     "end_time": "2018-03-13T09:33:57.545687Z",
     "start_time": "2018-03-13T09:33:57.530647Z"
    },
    "collapsed": true
   },
   "outputs": [],
   "source": [
    "print(\"Hello, World\")"
   ]
  },
  {
   "cell_type": "code",
   "execution_count": null,
   "metadata": {
    "ExecuteTime": {
     "end_time": "2018-03-13T09:34:01.737068Z",
     "start_time": "2018-03-13T09:34:01.731082Z"
    },
    "collapsed": true
   },
   "outputs": [],
   "source": [
    "print(3+2)"
   ]
  },
  {
   "cell_type": "code",
   "execution_count": null,
   "metadata": {
    "ExecuteTime": {
     "end_time": "2018-03-12T13:57:00.765668Z",
     "start_time": "2018-03-12T13:57:00.762665Z"
    },
    "collapsed": true
   },
   "outputs": [],
   "source": [
    "# Variablenzuweisung und Anzeige\n",
    "x = 3+5"
   ]
  },
  {
   "cell_type": "code",
   "execution_count": null,
   "metadata": {
    "ExecuteTime": {
     "end_time": "2018-03-12T13:57:01.422387Z",
     "start_time": "2018-03-12T13:57:01.410354Z"
    },
    "collapsed": true
   },
   "outputs": [],
   "source": [
    "# Anzeige eines Wertes innerhalb einer Python-Session auch ohne print\n",
    "x"
   ]
  },
  {
   "cell_type": "code",
   "execution_count": null,
   "metadata": {
    "ExecuteTime": {
     "end_time": "2018-03-12T13:57:01.904670Z",
     "start_time": "2018-03-12T13:57:01.898654Z"
    },
    "collapsed": true
   },
   "outputs": [],
   "source": [
    "# Taschenrechner\n",
    "2**8"
   ]
  },
  {
   "cell_type": "markdown",
   "metadata": {},
   "source": [
    "Über das \"+\"-Symbol in der Menüleiste können Sie jederzeit auch eine Code-Zelle einfügen und selbst etwas ausprobieren. Der Zell-Typ ist (ebenfalls über die Menüzeile) auch von Code in Markdown änderbar. Über das kleine Keyboard-Symbol in der Menü-Leiste können die Tastenkürzel angezeigt werden."
   ]
  },
  {
   "cell_type": "markdown",
   "metadata": {},
   "source": [
    "### Funktionalität von Jupyter\n",
    "\n",
    "Jupyter (und iPython) kann eine ganze Menge, denn das Tool wurde für die Data Scientists entworfen. Insbesondere kann man auch Visualisierungen erstellen und anzeigen lassen. Dieses Thema wird noch vertieft, hier nur ein erster Eindruck.\n",
    "\n",
    "Probieren Sie es aus!"
   ]
  },
  {
   "cell_type": "code",
   "execution_count": null,
   "metadata": {
    "ExecuteTime": {
     "end_time": "2018-03-12T13:57:06.781893Z",
     "start_time": "2018-03-12T13:57:03.035357Z"
    },
    "collapsed": true
   },
   "outputs": [],
   "source": [
    "from matplotlib import pyplot as plt\n",
    "plt.figure(figsize=(3,2))\n",
    "x = [1,2,3,4,5]\n",
    "y = [2,4,1,3.5,4]\n",
    "plt.plot(x, y)\n",
    "plt.show()"
   ]
  },
  {
   "cell_type": "markdown",
   "metadata": {},
   "source": [
    "### The Zen of Python\n",
    "\n",
    "Wie Sie bald merken werden, hat Python seine Eigenheiten und es erscheint auf den ersten Blick etwas ungewöhnlich. Auf den zweiten Blick werden Sie feststellen, dass viele Dinge, die in Java oder C# im Vergleich zu Python sehr umständlich zu formulieren sind. Guter Python Code wird als \"Pythonic\" beschrieben. Einige Grundprinzipien der Python-Programmierung sind diese hier:\n",
    "\n",
    "*Beautiful is better than ugly.  \n",
    "Explicit is better than implicit.  \n",
    "Simple is better than complex.  \n",
    "Complex is better than complicated.  \n",
    "Readability counts.  \n",
    "There should be one-- and preferably only one --obvious way to do it.*\n",
    "\n",
    "Alle 19 Aphorismen finden Sie hier auf [python.org](http://legacy.python.org/dev/peps/pep-0020/). Sie können Sie auch über `import this` im Python Interpreter anzeigen lassen.\n",
    "\n",
    "Dort auf python.org finden Sie auch einen [Style Guide für Python Code](http://legacy.python.org/dev/peps/pep-0008/)."
   ]
  },
  {
   "cell_type": "markdown",
   "metadata": {},
   "source": [
    "### Python 2.7 vs. Python 3.x\n",
    "\n",
    "Die [Historie von Python](https://en.wikipedia.org/wiki/History_of_Python) reicht in die frühen 90er Jahre zurück. Im Laufe der Jahre haben sich viele Unsauberkeiten angesammelt, die 2009 mit Python 3.0 bereinigt wurden. Dabei wurde bewusst in Kauf genommen, dass Python-3-Programme inkompatibel zu Python 2.7, der letzten Zweierversion, sind. Da viele Bibliotheken auf Python 2.7 basieren, wird diese Version bis heute eingesetzt. \n",
    "\n",
    "Wir arbeiten mit Python 3. Beim Kopieren von 2.7-Code-Beispielen aus dem Internet können daher Anpassungen nötig sein. Die wichtigsten Unterschiede werden im Folgenden kurz vorgestellt. Weitere Informationen finden Sie [hier](https://docs.python.org/3.0/whatsnew/3.0.html). \n",
    "\n",
    "#### Print Function \n",
    "\n",
    "Ein wichtiger Unterschied von Python 3.x zu Python 2.7: `print` ist eine Funktion und muss mit Klammern geschrieben werden:\n",
    "\n",
    "    print \"Hallo\"   # zulässig in Python 2.7\n",
    "    print (\"Hallo\") # Python 3.x\n",
    "       \n",
    "#### Typ-Konvertierungen\n",
    "\n",
    "In Python 3 wurde die Typüberprüfung verschärft, so dass insbesondere Zahlentypen für die Kombination mit Strings explizit gecastet werden müssen.\n",
    "\n",
    "    summe = 3+5\n",
    "    print \"Summe: \"+summe       # Python 2.7\n",
    "    print(\"Summe: \"+str(summe)) # Python 3.x\n",
    "\n",
    "#### Generator-Objekte statt Listen, Dictionaries etc.\n",
    "\n",
    "Python 3 wurden viele Funktionen wie `range` (das eine Liste von Zahlen erzeugt) so umgestellt, dass nicht fertige Listen, sondern Generor-Objekte erzeugt werden. Generatoren sind effizienter, denn sie erzeugen die Werte erst dann, wenn sie benötigt werden. Dazu mehr im Abschnitt zu <a href=\"#Generatoren\">Generatoren</a>\n"
   ]
  },
  {
   "cell_type": "markdown",
   "metadata": {},
   "source": [
    "### Einrückung und Zeilenumbrüche\n",
    "\n",
    "Code-Blöcke werden in Python, anders als in C# oder Java, nicht durch geschweifte Klammern, sondern allein durch Einrückung definiert. Der Kopf eines Code-Blocks (Verzweigung, Schleife, Funktion etc.) wird dabei immer mit einem Doppelpunkt `:` abgeschlossen, danach muss eingerückt werden.\n",
    "\n",
    "Eine `if`-Anweisung, die in C-basierten Sprachen so aussieht:\n",
    "\n",
    "      if (a < b)\n",
    "      {\n",
    "          Anweisung;\n",
    "          Anweisung;\n",
    "      }\n",
    "\n",
    "wird in Python damit so formuliert:\n",
    "\n",
    "      if a < b:\n",
    "          Anweisung\n",
    "          Anweisung\n",
    "\n",
    "Man muss also sehr aufpassen: Die Anzahl der Leerzeichen muss stimmen und Tabulatoren sollten vermieden werden. Letzteres macht Jupyter automatisch.\n",
    "\n",
    "**Aufgabe:** \n",
    "\n",
    "Lassen Sie den folgenden Block laufen und beheben Sie dann den Indentation Error. Experimentieren Sie mit dem Code, wenn Sie möchten."
   ]
  },
  {
   "cell_type": "code",
   "execution_count": null,
   "metadata": {
    "ExecuteTime": {
     "end_time": "2018-03-12T13:57:09.385859Z",
     "start_time": "2018-03-12T13:57:09.377838Z"
    },
    "collapsed": true
   },
   "outputs": [],
   "source": [
    "for i in [1, 2, 3, 4]:\n",
    "    print (str(i)+\": \", end=\"\") # Erste Zeile im \"for i\" Block, keine neue Zeile\n",
    "     for j in range(6):      # Schleife von 1 bis 5 (!)\n",
    "        print (j, end=\"\")       # Erste Zeile im \"for j\" Block\n",
    "        print (i+j, end=\"\")     # Letzte Zeile im \"for j\" Block\n",
    "    print (\".\")                 # Letzte Zeile im \"for i\" Block\n",
    "print (\"Fertig.\")"
   ]
  },
  {
   "cell_type": "markdown",
   "metadata": {},
   "source": [
    "Ein Zeilenumbruch leitet immer einen neuen Befehl ein. Innerhalb von Klammern werden Leerzeichen und Zeilenumbrüche aber ignoriert.\n",
    "\n",
    "    list_of_lists = [[1, 2, 3], [4, 5, 6], [7, 8, 9]]\n",
    "\n",
    "    easier_to_read_list_of_lists = [ [1, 2, 3],\n",
    "                                     [4, 5, 6],\n",
    "                                     [7, 8, 9] ]\n",
    "Soll ein langer Befehl umgebrochen werden, so kann mit einem Backslash ein Zeilenumbruch eingefügt werden:\n",
    "\n",
    "    very_long_variable_name = module_a.very_long_function_name() \\\n",
    "                                      .concatenated_function_call()"
   ]
  },
  {
   "cell_type": "markdown",
   "metadata": {},
   "source": [
    "**Aufgabe:**\n",
    "\n",
    "Das folgende Beispiel führt zu einem IndentationError, weil der Interpreter annimmt, dass die Leerzeile das Ende\n",
    "der For-Schleife kennzeichnet. Probieren Sie es aus und beheben Sie das Problem."
   ]
  },
  {
   "cell_type": "code",
   "execution_count": null,
   "metadata": {
    "ExecuteTime": {
     "end_time": "2018-03-12T13:57:13.192380Z",
     "start_time": "2018-03-12T13:57:13.187372Z"
    },
    "collapsed": true
   },
   "outputs": [],
   "source": [
    "for i in range(5):\n",
    "# Die Leerzeile sorgt für den Fehler\n",
    "\n",
    "print(i)"
   ]
  },
  {
   "cell_type": "markdown",
   "metadata": {},
   "source": [
    "### Eingaben über die Konsole\n",
    "\n",
    "Bei der Verwendung von Jupyter-Notebooks braucht man das nicht oft, aber manchmal ist eine Konsolen-Eingabe sinnvoll. Das geht in Python mit der `input`-Funktion. Diese liefert immer einen String zurück, so dass für andere Datentypen ggf. ein Typecasting erforderlich ist.\n",
    "\n",
    "Siehe auch https://www.python-kurs.eu/python3_eingabe.php."
   ]
  },
  {
   "cell_type": "code",
   "execution_count": 1,
   "metadata": {
    "ExecuteTime": {
     "end_time": "2018-03-15T08:35:56.229882Z",
     "start_time": "2018-03-15T08:35:49.919078Z"
    }
   },
   "outputs": [
    {
     "name": "stdout",
     "output_type": "stream",
     "text": [
      "String eingeben: asf\n",
      "asf <class 'str'>\n",
      "Integer eingeben: 4\n",
      "4 <class 'int'>\n"
     ]
    }
   ],
   "source": [
    "s = input(\"String eingeben: \")\n",
    "print(s, type(s))\n",
    "\n",
    "i = int(input(\"Integer eingeben: \"))\n",
    "print(i, type(i))\n",
    "    "
   ]
  },
  {
   "cell_type": "markdown",
   "metadata": {},
   "source": [
    "### Kommentare und Docstrings"
   ]
  },
  {
   "cell_type": "markdown",
   "metadata": {},
   "source": [
    "#### Kommentare\n",
    "\n",
    "In Python beginnt ein Kommentar mit <code>#</code>. Der Rest der Zeile wird vom Computer ignoriert. Bei einem mehrzeiligen Kommentar muss jede Zeile mit <code>#</code> beginnen."
   ]
  },
  {
   "cell_type": "code",
   "execution_count": null,
   "metadata": {
    "ExecuteTime": {
     "end_time": "2018-03-12T13:57:23.372717Z",
     "start_time": "2018-03-12T13:57:23.369709Z"
    },
    "collapsed": true
   },
   "outputs": [],
   "source": [
    "# Dies ist ein Kommentar\n",
    "\n",
    "# Ein Kommentar über\n",
    "# mehrere Zeilen"
   ]
  },
  {
   "cell_type": "markdown",
   "metadata": {},
   "source": [
    "#### Docstring\n",
    "\n",
    "Mit einem Docstring kann ein Teil des Codes kommentiert bzw. dokumentiert werden. Ein Docstring ist üblicherweise das erste Statement eines Python Moduls (Class, Method, Function). Ein Docstring hat die Syntax <code>\"\"\"This ist my documentation\"\"\"</code>.\n",
    "Mit <code>help</code> kann die Dokumentation aufgerufen werden."
   ]
  },
  {
   "cell_type": "code",
   "execution_count": null,
   "metadata": {
    "ExecuteTime": {
     "end_time": "2018-03-12T13:57:25.338770Z",
     "start_time": "2018-03-12T13:57:25.331778Z"
    },
    "collapsed": true
   },
   "outputs": [],
   "source": [
    "def myFunction():\n",
    "    \"\"\"Documentation of the function\"\"\"\n",
    "\n",
    "class myClass():\n",
    "    \"\"\"Documentation of the class\"\"\" \n",
    " \n",
    "    def myMethod():\n",
    "        \"\"\"Documentation of the method....\"\"\""
   ]
  },
  {
   "cell_type": "code",
   "execution_count": null,
   "metadata": {
    "ExecuteTime": {
     "end_time": "2018-03-12T13:57:25.889872Z",
     "start_time": "2018-03-12T13:57:25.882854Z"
    },
    "collapsed": true
   },
   "outputs": [],
   "source": [
    "help(myFunction)\n",
    "help(myClass)\n",
    "help(myClass.myMethod)"
   ]
  },
  {
   "cell_type": "code",
   "execution_count": null,
   "metadata": {
    "ExecuteTime": {
     "end_time": "2018-03-12T13:57:45.584596Z",
     "start_time": "2018-03-12T13:57:45.578572Z"
    },
    "collapsed": true
   },
   "outputs": [],
   "source": [
    "help(print)"
   ]
  },
  {
   "cell_type": "markdown",
   "metadata": {},
   "source": [
    "### Namenskonventionen\n",
    "\n",
    "Die üblichen Namenskonventionenen in Python sind etwas anders als in C-basierten Programmiersprachen:\n",
    "\n",
    "  - Variablen- und Methodennamen werden durchgängig kleingeschrieben, ggf. mit Underscore als Trennzeichen.\n",
    "  - Klassennamen werden in Camelcase-Notation geschrieben.\n",
    "\n",
    "Weitere Details dazu sind hier aufgeführt: https://www.python.org/dev/peps/pep-0008/\n"
   ]
  },
  {
   "cell_type": "code",
   "execution_count": null,
   "metadata": {
    "collapsed": true
   },
   "outputs": [],
   "source": []
  },
  {
   "cell_type": "markdown",
   "metadata": {},
   "source": [
    "<a id=\"Kontrollstrukturen\"></a>\n",
    "## Kontrollstrukturen"
   ]
  },
  {
   "cell_type": "markdown",
   "metadata": {},
   "source": [
    "### Operatoren und Bedingungen\n",
    "\n",
    "Python nutzt die aus den C-basierten Sprachen bekannten Vergleichsoperatoren einschließlich `==` für den Vergleich bzw. `!=` für die Ungleichheit. Die Negation wird anders als in C durch `not` spezifiziert."
   ]
  },
  {
   "cell_type": "code",
   "execution_count": null,
   "metadata": {
    "ExecuteTime": {
     "end_time": "2018-03-12T13:58:36.026423Z",
     "start_time": "2018-03-12T13:58:36.020411Z"
    },
    "collapsed": true
   },
   "outputs": [],
   "source": [
    "print(3 == 2)Weitere Informationen: https://www.python-kurs.eu/python3_operatoren.php \n",
    "print(3 != 2)\n",
    "print(not (3 == 2)) # ! (3 == 2) geht nicht!"
   ]
  },
  {
   "cell_type": "markdown",
   "metadata": {},
   "source": [
    "An typischen Operatoren stehen zur Verfügung:"
   ]
  },
  {
   "cell_type": "code",
   "execution_count": null,
   "metadata": {
    "ExecuteTime": {
     "end_time": "2018-03-12T13:58:59.674749Z",
     "start_time": "2018-03-12T13:58:59.666729Z"
    },
    "collapsed": true
   },
   "outputs": [],
   "source": [
    "print(3+2)\n",
    "print(\"3\"+\"2\")\n",
    "print(6%2)\n",
    "x = 3\n",
    "x += 1 # x++ geht nicht!\n",
    "print(x)"
   ]
  },
  {
   "cell_type": "markdown",
   "metadata": {},
   "source": [
    "Weitere Informationen: https://www.python-kurs.eu/python3_operatoren.php "
   ]
  },
  {
   "cell_type": "markdown",
   "metadata": {},
   "source": [
    "### If-Anweisung"
   ]
  },
  {
   "cell_type": "code",
   "execution_count": null,
   "metadata": {
    "ExecuteTime": {
     "end_time": "2018-02-26T17:35:47.598382Z",
     "start_time": "2018-02-26T17:35:47.590361Z"
    },
    "collapsed": true
   },
   "outputs": [],
   "source": [
    "if 1 > 2:\n",
    "    msg = \"Wäre eins doch nur größer als zwei.\"\n",
    "elif 1 > 3:\n",
    "    msg = \"elif steht für 'else if'.\"\n",
    "else:\n",
    "    msg = \"Wenn alles andere scheitert, kann der else Block verwendet werden.\"\n",
    "    \n",
    "#Inline If-Abfrage\n",
    "x = 4\n",
    "even_odd = \"gerade\" if x % 2 == 0 else \"ungerade\""
   ]
  },
  {
   "cell_type": "markdown",
   "metadata": {},
   "source": [
    "Es gibt auch ein abgekürztes `if`, das ähnlich kryptisch, aber auch ähnlich nützlich wie das in C-basierten Sprachen ist.\n",
    "\n",
    "C-Syntax:\n",
    "\n",
    "    max = (a > b) ? a : b; \n",
    "  \n",
    "Python-Syntax:\n",
    "\n",
    "    max = a if (a > b) else b;"
   ]
  },
  {
   "cell_type": "markdown",
   "metadata": {},
   "source": [
    "Quelle: https://www.python-kurs.eu/bedingte_anweisungen.php"
   ]
  },
  {
   "cell_type": "markdown",
   "metadata": {},
   "source": [
    "### While-Schleife"
   ]
  },
  {
   "cell_type": "code",
   "execution_count": null,
   "metadata": {
    "ExecuteTime": {
     "end_time": "2018-02-26T17:35:49.194805Z",
     "start_time": "2018-02-26T17:35:49.181770Z"
    },
    "collapsed": true
   },
   "outputs": [],
   "source": [
    "x = 0\n",
    "while x < 10:\n",
    "    print(x, \"ist kleiner als 10.\")\n",
    "    x += 1\n",
    "\n",
    "y = 5\n",
    "while y > 0:\n",
    "    print(\"Y hat den Wert\", y)\n",
    "    y = y - 1\n"
   ]
  },
  {
   "cell_type": "markdown",
   "metadata": {},
   "source": [
    "### For-Schleife\n",
    "Um über eine Zahlensquenz zu iterieren, bietet sich das von Python standardmäßig bereitgestellte [`range()`-Objekt](https://docs.python.org/3/library/stdtypes.html#typesseq-range) an. Dieses generiert dynamisch eine Zahlensequenz innerhalb der gewünschten Parameter. Die allgemeine Syntax lautet:\n",
    "\n",
    "    range(start, ende, schrittweite)\n",
    "\n",
    "Wenn kein Startwert vorgegeben wird, beginnt Python bei der Zahl 0. Wird kein Zahlenabstand (Schritte) definiert, erstellt der Interpreter eine Liste von aufeinanderfolgenden Zahlen (z.B. Einerschritte). Der Endwert muss immer vorgegeben werden und ist **nicht** in der generierten Liste enthalten.\n",
    "\n",
    "Beispiele:\n",
    "\n",
    "    range(5) # generiert die Werte 0, 1, 2, 3, 4\n",
    "    range(3, 10) # generiert die Werte 3, 4, 5, 6, 7, 8, 9\n",
    "    range(4, 10, 2) # generiert die Werte 4, 6, 8"
   ]
  },
  {
   "cell_type": "code",
   "execution_count": null,
   "metadata": {
    "ExecuteTime": {
     "end_time": "2018-03-13T07:56:51.157207Z",
     "start_time": "2018-03-13T07:56:51.149183Z"
    },
    "collapsed": true
   },
   "outputs": [],
   "source": [
    "# Eine einfache For-Schleife.\n",
    "for x in range(10):\n",
    "    print(x, \"ist kleiner als 10.\")\n"
   ]
  },
  {
   "cell_type": "markdown",
   "metadata": {},
   "source": [
    "Schleifen können mit dem Schlüsselwort \"break\" abgebrochen werden, sobald eine bestimmte Bedingung erfüllt ist. Mit Hilfe von \"continue\" kann ein Teil der Schleife für die Iteration in der die Bedingung erfüllt ist, übersprungen werden."
   ]
  },
  {
   "cell_type": "code",
   "execution_count": null,
   "metadata": {
    "ExecuteTime": {
     "end_time": "2018-02-26T17:36:02.134204Z",
     "start_time": "2018-02-26T17:36:02.127184Z"
    },
    "collapsed": true
   },
   "outputs": [],
   "source": [
    "# Eine etwas komplexere Logik.\n",
    "for x in range(10):\n",
    "    if x == 3:\n",
    "        continue # Überspringt die Zahl 3 und macht sofort mit der nächsten Iteration weiter\n",
    "    elif x == 5:\n",
    "        break # Beendet die Schleife\n",
    "    else:\n",
    "        print(x) # Ausgabe: 0, 1, 2 und 4"
   ]
  },
  {
   "cell_type": "markdown",
   "metadata": {},
   "source": [
    "**Aufgabe:**\n",
    "\n",
    "Finden Sie im Intervall 100 <= 147 alle Zahlen, welche durch 7 teilbar, aber kein Vielfaches von 5 sind, und lassen Sie diese mit `print` ausgeben. Es müssen die Zahlen 112, 119, 126, 133 und 147 ausgegeben werden."
   ]
  },
  {
   "cell_type": "code",
   "execution_count": null,
   "metadata": {
    "ExecuteTime": {
     "end_time": "2018-02-26T17:36:16.947840Z",
     "start_time": "2018-02-26T17:36:16.941823Z"
    },
    "collapsed": true
   },
   "outputs": [],
   "source": [
    "# Hier die Lösung eingeben und testen\n"
   ]
  },
  {
   "cell_type": "markdown",
   "metadata": {},
   "source": [
    "### Ausnahmebehandlung\n",
    "Ausnahmen können mit try und except behandelt werden:"
   ]
  },
  {
   "cell_type": "code",
   "execution_count": null,
   "metadata": {
    "ExecuteTime": {
     "end_time": "2018-02-26T17:36:18.193591Z",
     "start_time": "2018-02-26T17:36:18.182592Z"
    },
    "collapsed": true
   },
   "outputs": [],
   "source": [
    "try:\n",
    "    print(5/0)\n",
    "except ZeroDivisionError as e:\n",
    "    print(\"Eigene Meldung: Fehler! Div / 0\")\n",
    "    print(\"Automatische Meldung: \" + str(e))\n",
    "finally:\n",
    "    print(\"Dieser Block wird immer ausgeführt.\")"
   ]
  },
  {
   "cell_type": "markdown",
   "metadata": {},
   "source": [
    "Beschreibungen der verfügbaren Python-Exceptions finden sich in der [Dokumentation](https://docs.python.org/3/library/exceptions.html)."
   ]
  },
  {
   "cell_type": "markdown",
   "metadata": {},
   "source": [
    "<a id=\"Einfache_Datentypen\"></a>\n",
    "## Einfache Datentypen\n",
    "\n",
    "Python ist eine typisierte Sprache. Jede Variable hat einen Datentyp. Python kennt die üblichen Typen Int, Float, Bool, aber auch viele weitere z.B. Complex als Zahlentyp. Eine vollständige Auflistung ist in der [Dokumentation](https://docs.python.org/3/library/stdtypes.html) zu finden.\n",
    "\n",
    "An dieser Stelle wird nur kurz auf einige besondere Aspekte eingegangen."
   ]
  },
  {
   "cell_type": "markdown",
   "metadata": {},
   "source": [
    "### Strings\n",
    "Strings können mit einfachen oder doppelten Anführungszeichen deklariert werden. Spezielle Schriftzeichen werden mit dem Backslash enkodiert. Strings, die über mehrere Zeilen gehen, werden in dreifache doppelte Anführungszeichen gesetzt. Wenn ein Backslash als solcher im String auftauchen soll, können sogenannte \"Raw-Strings\" mit `r\"\"` verwendet werden.\n"
   ]
  },
  {
   "cell_type": "code",
   "execution_count": null,
   "metadata": {
    "ExecuteTime": {
     "end_time": "2018-03-12T15:03:11.845078Z",
     "start_time": "2018-03-12T15:03:11.831039Z"
    },
    "collapsed": true
   },
   "outputs": [],
   "source": [
    "string_single_quote = 'data science'\n",
    "print(string_single_quote)\n",
    "\n",
    "string_double_quote = \"data science\"\n",
    "print(string_double_quote)\n",
    "\n",
    "string_with_double_quotes = '\"data science\"'\n",
    "print(string_with_double_quotes)\n",
    "\n",
    "tab_string = \"\\tDavor ist ein Tab\" # Repräsentiert das Tab-Zeichen\n",
    "print(len(tab_string)) # Die Länge von tab_string ist 18\n",
    "print(tab_string)\n",
    "\n",
    "multiline_string = \"\"\"Erste Zeile.\n",
    "Zweite Zeile.\n",
    "Dritte Zeile.\"\"\"\n",
    "print(multiline_string)\n",
    "\n",
    "no_tab_string = r\"\\t\" # Repräsentiert die Zeichen '\\' und 't'\n",
    "len(no_tab_string) # Die Länge von kein_tab_string ist 2\n",
    "print(no_tab_string)"
   ]
  },
  {
   "cell_type": "markdown",
   "metadata": {},
   "source": [
    "Python bietet neben *len()* weitere hilfreiche Funktionen zur Bearbeitung von Strings.\n",
    "Eine Übersicht findet sich in der [Dokumentation](https://docs.python.org/3.7/library/stdtypes.html).\n",
    "\n",
    "Mit einer for-Schleife kann sehr einfach über die Zeichen (die Strings der Länge 1 sind!) iteriert werden:"
   ]
  },
  {
   "cell_type": "code",
   "execution_count": null,
   "metadata": {
    "ExecuteTime": {
     "end_time": "2018-03-12T14:23:07.505315Z",
     "start_time": "2018-03-12T14:23:07.500271Z"
    },
    "collapsed": true
   },
   "outputs": [],
   "source": [
    "s = \"Hallo\"\n",
    "for c in s:\n",
    "    print(c, end=\",\")"
   ]
  },
  {
   "cell_type": "markdown",
   "metadata": {},
   "source": [
    "Strings können über + addiert werden und (das ist ungewöhnlich) über einen Faktor vervielfältigt werden."
   ]
  },
  {
   "cell_type": "code",
   "execution_count": null,
   "metadata": {
    "ExecuteTime": {
     "end_time": "2018-03-12T14:23:12.225637Z",
     "start_time": "2018-03-12T14:23:12.220598Z"
    },
    "collapsed": true
   },
   "outputs": [],
   "source": [
    "giggle = \"ha\"\n",
    "print(giggle*10 + \" ... das ist sehr lustig!\")"
   ]
  },
  {
   "cell_type": "markdown",
   "metadata": {},
   "source": [
    "<a id='stringaufgabe'></a>\n",
    "**Aufgabe:**\n",
    "\n",
    "In einem beliebigen Satz soll die Anzahl der enthaltenen Buchstaben und Ziffern ermittelt werden.\n",
    "Beispielsatz:\n",
    "\n",
    "*\"Die kleinste vollkommene Zahl ist 6, weil 1, 2 und 3 nicht nur die Teiler von 6 sind, sondern sich auch zu 6 addieren.\"*\n",
    "\n",
    "Führt zur Ausgabe:\n",
    "* Buchstaben: 85\n",
    "* Ziffern: 6\n",
    "\n",
    "Hinweis:\n",
    "In der [Dokumentation zu den String-Funktionen](https://docs.python.org/3.7/library/stdtypes.html#string-methods) finden sich Methoden, die bei der Prüfung auf Ziffer oder Buchstaben helfen."
   ]
  },
  {
   "cell_type": "code",
   "execution_count": null,
   "metadata": {
    "ExecuteTime": {
     "end_time": "2018-03-12T14:23:18.941194Z",
     "start_time": "2018-03-12T14:23:18.933173Z"
    },
    "collapsed": true
   },
   "outputs": [],
   "source": [
    "# Lösung vervollständigen\n",
    "s = \"Die kleinste vollkommene Zahl ist 6, weil 1, 2 und 3 nicht nur die Teiler von 6 sind, sondern sich auch zu 6 addieren.\"\n",
    "\n",
    "letters = 0\n",
    "digits = 0\n",
    "\n",
    "# Hier Code einfügen\n",
    "# for c in s:\n",
    "# ...\n",
    "\n",
    "print(\"Buchstaben: \", letters)\n",
    "print(\"Ziffern: \", digits)"
   ]
  },
  {
   "cell_type": "markdown",
   "metadata": {
    "collapsed": true
   },
   "source": [
    "Mit dem nächsten Befehl können Sie sich die Musterlösung anzeigen lassen."
   ]
  },
  {
   "cell_type": "code",
   "execution_count": null,
   "metadata": {
    "ExecuteTime": {
     "end_time": "2018-03-12T14:23:20.454252Z",
     "start_time": "2018-03-12T14:23:20.436230Z"
    },
    "collapsed": true
   },
   "outputs": [],
   "source": [
    "# Lösung anzeigen\n",
    "import base64\n",
    "crypted_solution = b'CnMgPSAiRGllIGtsZWluc3RlIHZvbGxrb21tZW5lIFphaGwgaXN0IDYsIHdlaWwgMSwgMiB1bmQgMyBuaWNodCBudXIgZGllIFRlaWxlciB2b24gNiBzaW5kLCBzb25kZXJuIHNpY2ggYXVjaCB6dSA2IGFkZGllcmVuLiIKCmxldHRlcnMgPSAwCmRpZ2l0cyA9IDAKCiMgSGllciBDb2RlIGVpbmbDvGdlbgpmb3IgYyBpbiBzOgogICAgaWYgYy5pc2FscGhhKCk6CiAgICAgICAgbGV0dGVycyArPSAxOwogICAgZWxpZiBjLmlzZGlnaXQoKToKICAgICAgICBkaWdpdHMgKz0gMTsKCnByaW50KCJCdWNoc3RhYmVuOiAiLCBsZXR0ZXJzKQpwcmludCgiWmlmZmVybjogIiwgZGlnaXRzKQo='\n",
    "print(base64.b64decode(crypted_solution).decode('utf-8'))"
   ]
  },
  {
   "cell_type": "markdown",
   "metadata": {
    "collapsed": true
   },
   "source": [
    "### Ausgabeformatierung\n",
    "\n",
    "#### String-Interpolation \n",
    "\n",
    "Ausgaben lassen sich unter Verwendung des % Operators formatieren. Diese Formatierung ist eigentlich veraltet, aber immer noch sehr gebräuchlich, weil sie sehr schön kompakt ist. Die Syntax zur Formatierung von Zeichenketten ist wie folgt aufgebaut:\n",
    "\n",
    "    \"zu formatierender String\" % (Liste von Variablen oder Werten)\n",
    "\n",
    "Für die Formatierung der Strings wird die C-printf-Syntax verwendet. Der Platzhalter `%s` repräsentiert Strings, `%d` Integerwerte und `%f` Floats. Die Angabe einer Stellenzahl ist optional. Mehr Infos dazu finden sich hier: \n",
    "\n",
    "- https://www.python-kurs.eu/python3_formatierte_ausgabe.php\n",
    "- https://docs.python.org/3/library/stdtypes.html#printf-style-string-formatting\n",
    "- https://pyformat.info/\n",
    "\n",
    "\n",
    "**Beispiel**\n",
    "\n",
    "Im folgenden Beispiel wird der Wert von der Variablen *brand* durch den Platzhalter *{0:s}*, und der Wert des im [Tupel](#Tupel) angegebenen Float-Wertes durch den Platzhalter *{1:6.2f}* ersetzt. Im Ergebnisstring werden die interpolierten Werde anstelle der Platzhalter ausgegeben."
   ]
  },
  {
   "cell_type": "code",
   "execution_count": null,
   "metadata": {
    "ExecuteTime": {
     "end_time": "2018-03-12T14:30:17.332782Z",
     "start_time": "2018-03-12T14:30:17.324762Z"
    },
    "collapsed": true
   },
   "outputs": [],
   "source": [
    "brand = \"Apple IPhoneX\"\n",
    "price = 899\n",
    "print(\"Preis des %s in US$: %d\" % (brand, price))\n",
    "\n",
    "fx_rate = 1.177065\n",
    "print(\"Beim Wechselkurs von 1 zu %4.3f macht das %3.2f EUR.\" % (fx_rate, price/fx_rate))"
   ]
  },
  {
   "cell_type": "markdown",
   "metadata": {},
   "source": [
    "**Aufgabe:**\n",
    "\n",
    "Schreiben Sie eine for-Schleife, welche die Quadradzahlen von 1 bis 10 in folgender Darstellung ausgibt:\n",
    "\n",
    "     1 *  1 =   1\n",
    "     2 *  2 =   4\n",
    "     3 *  3 =   9\n",
    "     4 *  4 =  16\n",
    "     5 *  5 =  25\n",
    "     6 *  6 =  36\n",
    "     7 *  7 =  49\n",
    "     8 *  8 =  64\n",
    "     9 *  9 =  81\n",
    "    10 * 10 = 100\n",
    "\n",
    "Nutzen Sie dafür die Form\n",
    "\n",
    "    \"zu formatierender String\" % (Tupel von Variablen oder Werten)\n"
   ]
  },
  {
   "cell_type": "code",
   "execution_count": null,
   "metadata": {
    "ExecuteTime": {
     "end_time": "2018-03-12T14:30:21.370850Z",
     "start_time": "2018-03-12T14:30:21.219480Z"
    },
    "collapsed": true
   },
   "outputs": [],
   "source": [
    "# Lösung hier eintragen\n",
    "for i in range(...):\n",
    "    print(...)\n"
   ]
  },
  {
   "cell_type": "markdown",
   "metadata": {},
   "source": [
    "Mit dem nächsten Befehl können Sie sich die Musterlösung anzeigen lassen."
   ]
  },
  {
   "cell_type": "code",
   "execution_count": null,
   "metadata": {
    "ExecuteTime": {
     "end_time": "2018-03-12T14:30:23.475611Z",
     "start_time": "2018-03-12T14:30:23.469626Z"
    },
    "collapsed": true
   },
   "outputs": [],
   "source": [
    "# Lösung anzeigen\n",
    "import base64\n",
    "crypted_solution = b'CmZvciBpIGluIHJhbmdlKDEsIDExKToKICAgIHByaW50KCIlMmQgKiAlMmQgPSAlM2QiICUgKGksIGksIGkqaSkpCg=='\n",
    "print(base64.b64decode(crypted_solution).decode('utf-8'))"
   ]
  },
  {
   "cell_type": "markdown",
   "metadata": {},
   "source": [
    "#### String-Methode \"format\"\n",
    "\n",
    "Strings lassen sich auch mit der an C# angelehnten Methode `format()` in das gewünschte Format bringen. Dabei können Werte, wie Integers, Floats usw., in den zu erzeugenden formatierten String durch Platzhalter interpoliert (eingefügt) werden. Die Syntax lautet:\n",
    "\n",
    "    \"zu formatierender String\".format(Tupel von Variablen oder Werten)\n",
    "\n",
    "Die Platzhalter in Formatstrings sind nummeriert und erlauben außerdem die Angabe einer Feldbreite, der gewünschten Anzahl von Nachkommastellen und eines Ausgabeformats. Sie Syntax der Platzhalter ist folgende:\n",
    "\n",
    "    \"{\"n [\":\" width][precision][format]\"}\"\n",
    "    \n",
    "**Beispiel**\n",
    "\n",
    "Im folgenden Beispiel wird der Wert von der Variablen *brand* durch den Platzhalter *{0:s}*, und der Wert des im Tupel angegebenen Float-Wertes durch den Platzhalter *{1:6.2f}* ersetzt. Im Ergebnisstring werden die interpolierten Werde anstelle der Platzhalter ausgegeben."
   ]
  },
  {
   "cell_type": "code",
   "execution_count": null,
   "metadata": {
    "ExecuteTime": {
     "end_time": "2018-03-12T14:31:31.929535Z",
     "start_time": "2018-03-12T14:31:31.924520Z"
    },
    "collapsed": true
   },
   "outputs": [],
   "source": [
    "brand = \"Apple\"\n",
    "new_msg = \"Das IphoneX von {0:s} ist mit einem Einstiegspreis von {1:6.2f}\\\n",
    " USD das teuerste Iphone aller Zeiten.\".format(brand, 1149.00000)\n",
    "print(new_msg)"
   ]
  },
  {
   "cell_type": "markdown",
   "metadata": {},
   "source": [
    "### Type-Casting\n",
    "\n",
    "Auch wenn Variablen nicht deklariert werden müssen, ist Python eine stark typisierte Sprache. Die Anwendung unzulässiger Operatoren führt zu Fehlern. Häufig ist eine explizite Typumwandlung erforderlich. "
   ]
  },
  {
   "cell_type": "code",
   "execution_count": null,
   "metadata": {
    "ExecuteTime": {
     "end_time": "2018-03-12T14:31:42.609935Z",
     "start_time": "2018-03-12T14:31:42.603919Z"
    },
    "collapsed": true
   },
   "outputs": [],
   "source": [
    "i = 42\n",
    "print(\"Zahl: \"+str(i)) # funktioniert\n",
    "print(\"Zahl:\", i) # funktioniert\n",
    "print(\"Zahl: %d\" % i) # funktioniert"
   ]
  },
  {
   "cell_type": "markdown",
   "metadata": {},
   "source": [
    "Der klassische Fehler mit ganzzahliger Division bei Int-Werten aufgrund eines fehlenden Cast-Operators kann in Python 3 übrigens nicht passieren. Bei Brüchen wird immer in Float gerechnet. Soll ganzzahlig geteilt werden, gibt es einen extra Operator: `//`"
   ]
  },
  {
   "cell_type": "code",
   "execution_count": null,
   "metadata": {
    "ExecuteTime": {
     "end_time": "2018-03-12T14:31:43.640545Z",
     "start_time": "2018-03-12T14:31:43.634530Z"
    },
    "collapsed": true
   },
   "outputs": [],
   "source": [
    "print(3/2)\n",
    "print(3//2)"
   ]
  },
  {
   "cell_type": "markdown",
   "metadata": {},
   "source": [
    "<a id=\"Komplexe_Datentypen\"></a>\n",
    "## Komplexe Datentypen (Collections)\n",
    "\n",
    "Python unterstützt neben den elementaren Datentypen auch Datenstrukturen, die mehrere Elemente beliebigen Typs beinhalten können, insbesondere\n",
    "\n",
    "- tuple: unveränderliche Tupel (Vektoren, Datensätze)\n",
    "- list: Listen mit Funktionen wie add, remove etc.\n",
    "- dict: Assoziatives Array / Dictionary\n",
    "\n",
    "    \n",
    "    tuple_val = (4711,'Adele')\n",
    "    list_val = ['physics', 'chemistry', 1997, 2000]\n",
    "    dict_val = {'a':1, 'b': true, 'c': \"n\n",
    "\n",
    "Tupel, Listen und Dictionaries bilden die Grundbausteine für Data Science. Denn eine Tabelle ist im Kern nichts weiter als eine Liste von Tupeln. "
   ]
  },
  {
   "cell_type": "markdown",
   "metadata": {},
   "source": [
    "### Listen\n",
    "\n",
    "Siehe auch: http://www.tutorialspoint.com/python/python_lists.htm.\n",
    "\n",
    "Listen sind den aus C# oder Java bekannten Arrays sehr ähnlich. Allerdings sind sie erweiterbar und  mit einigen zusätzlichen Funktionen ausgestattet. Listen werden über eckige Klammern definiert und können beliebige Objekte verschiedenen Typs aufnehmen.\n",
    "\n",
    "Hier einige Beispiele für Listen und deren Funktionalitäten:"
   ]
  },
  {
   "cell_type": "code",
   "execution_count": null,
   "metadata": {
    "ExecuteTime": {
     "end_time": "2018-02-26T17:39:35.556323Z",
     "start_time": "2018-02-26T17:39:35.543298Z"
    },
    "collapsed": true
   },
   "outputs": [],
   "source": [
    "integer_list = [1, 2, 3]\n",
    "heterogenous_list = [\"Ein String\", 0.1, True]\n",
    "list_of_lists = [ integer_list, heterogenous_list, [] ]\n",
    "list_length = len(integer_list) # Die Länge der Liste beträgt 3\n",
    "list_sum = sum(integer_list) # Die Summe der Listenelemente beträgt 6\n",
    "\n",
    "# Ausgabe einer Liste\n",
    "print(integer_list)\n",
    "\n",
    "# Länge der Liste\n",
    "print(len(integer_list))"
   ]
  },
  {
   "cell_type": "markdown",
   "metadata": {},
   "source": [
    "Auf das n-te Element einer Liste kann mit eckigen Klammern zugegriffen werden."
   ]
  },
  {
   "cell_type": "code",
   "execution_count": null,
   "metadata": {
    "ExecuteTime": {
     "end_time": "2018-02-26T17:39:36.853893Z",
     "start_time": "2018-02-26T17:39:36.845840Z"
    },
    "collapsed": true
   },
   "outputs": [],
   "source": [
    "my_list = list(range(10)) # Entspricht der Liste [0, 1, ..., 9]\n",
    "print(my_list) \n",
    "\n",
    "print(my_list[0]) # Das Element an der Stelle 0 hat den Wert 0 (Der Listenindex beginnt immer bei 0)\n",
    "print(my_list[9]) # Das letzte Element der Liste hat den Wert 9\n",
    "print(my_list[-2]) # Zugriff auf das vorletzte Element der Liste - liefert den Wert 8"
   ]
  },
  {
   "cell_type": "markdown",
   "metadata": {},
   "source": [
    "Veränderung von einzelnen Listenelementen:"
   ]
  },
  {
   "cell_type": "code",
   "execution_count": null,
   "metadata": {
    "ExecuteTime": {
     "end_time": "2018-02-26T17:39:41.476132Z",
     "start_time": "2018-02-26T17:39:41.469114Z"
    },
    "collapsed": true
   },
   "outputs": [],
   "source": [
    "my_list[4] = \"4!\"\n",
    "\n",
    "my_list"
   ]
  },
  {
   "cell_type": "markdown",
   "metadata": {},
   "source": [
    "Die Prüfung, ob ein Element in einer Liste ist, wird mit `in` durchgeführt. Dabei wird die Liste sequenziell durchlaufen, so die Prüfung viel Zeit in Anspruch nehmen kann."
   ]
  },
  {
   "cell_type": "code",
   "execution_count": null,
   "metadata": {
    "collapsed": true
   },
   "outputs": [],
   "source": [
    "print(1 in [1, 2, 3]) # Liefert True\n",
    "\n",
    "print(0 in [1, 2, 3]) # Liefert False"
   ]
  },
  {
   "cell_type": "markdown",
   "metadata": {},
   "source": [
    "Verschiedene Arten der Listenkonkatenation:"
   ]
  },
  {
   "cell_type": "code",
   "execution_count": null,
   "metadata": {
    "ExecuteTime": {
     "end_time": "2018-02-26T17:41:43.025479Z",
     "start_time": "2018-02-26T17:41:43.009437Z"
    },
    "collapsed": true
   },
   "outputs": [],
   "source": [
    "x = [1, 2, 3]\n",
    "x.extend([4, 5, 6]) # x ist jetzt [1,2,3,4,5,6]\n",
    "print(\"x (extended): \", x)\n",
    "\n",
    "x = [1, 2, 3]\n",
    "y = x + [4, 5, 6] # y entspricht [1, 2, 3, 4, 5, 6]; x bleibt unverändert\n",
    "print(\"y: \", y)\n",
    "\n",
    "x = [1, 2, 3]\n",
    "x.append(4) # x ist jetzt [1, 2, 3, 4]\n",
    "x.append([5, 6]) # x ist jetzt [1, 2, 3, 4, [5, 6]]\n",
    "print(\"x (appended): \", x)\n",
    "\n",
    "print(\"Länge von x\", len(x)) # Die Länge der Liste beträgt 4"
   ]
  },
  {
   "cell_type": "markdown",
   "metadata": {},
   "source": [
    "Etwas gewöhnungsbedürftig ist die Zuweisung gleich mehrerer Variablen durch eine Liste."
   ]
  },
  {
   "cell_type": "code",
   "execution_count": null,
   "metadata": {
    "ExecuteTime": {
     "end_time": "2018-02-26T17:41:46.483821Z",
     "start_time": "2018-02-26T17:41:46.478812Z"
    },
    "collapsed": true
   },
   "outputs": [],
   "source": [
    "x, y = [1, 2] \n",
    "print(\"x = %d, y = %d\" % (x, y))"
   ]
  },
  {
   "cell_type": "markdown",
   "metadata": {},
   "source": [
    "Damit die Verteilung fehlerfrei funktioniert, müssen links genauso viele Variablen wie Listenelemente rechts stehen."
   ]
  },
  {
   "cell_type": "code",
   "execution_count": null,
   "metadata": {
    "ExecuteTime": {
     "end_time": "2018-02-26T17:41:54.744537Z",
     "start_time": "2018-02-26T17:41:54.732507Z"
    },
    "collapsed": true
   },
   "outputs": [],
   "source": [
    "x, y = [1, 2, 3] # Führt zu einem ValueError"
   ]
  },
  {
   "cell_type": "markdown",
   "metadata": {},
   "source": [
    "Wenn nur bestimmte Elemente aus der Liste auf Variablen verteilt werden sollen, \n",
    "können die anderen mit Hilfe von Unterstrichen \"entsorgt\" werden:"
   ]
  },
  {
   "cell_type": "code",
   "execution_count": null,
   "metadata": {
    "ExecuteTime": {
     "end_time": "2018-02-26T17:42:03.814421Z",
     "start_time": "2018-02-26T17:42:03.808421Z"
    },
    "collapsed": true
   },
   "outputs": [],
   "source": [
    "_, y = [\"entsorge mich\", \"behalte mich\"]\n",
    "\n",
    "print(y)"
   ]
  },
  {
   "cell_type": "markdown",
   "metadata": {},
   "source": [
    "Eine Zuweisung mit `=` erzeugt eine Referenz auf eine Liste. Soll die Liste kopiert werden, so muss `copy` (oder über die Auswahl aller Elemente mit `[:]`, s.u. **Slicing**) ein Duplikat erstellt werden."
   ]
  },
  {
   "cell_type": "code",
   "execution_count": null,
   "metadata": {
    "ExecuteTime": {
     "end_time": "2018-02-26T17:43:14.655797Z",
     "start_time": "2018-02-26T17:43:14.647775Z"
    },
    "collapsed": true
   },
   "outputs": [],
   "source": [
    "reference_list = my_list\n",
    "reference_list[3] = -3\n",
    "copy_list = my_list.copy() # alternativ my_list[:]\n",
    "copy_list[3] = 3\n",
    "\n",
    "print(my_list)\n",
    "print(reference_list)\n",
    "print(copy_list)"
   ]
  },
  {
   "cell_type": "markdown",
   "metadata": {},
   "source": [
    "#### Slicing\n",
    "\n",
    "Python erlaubt Listen und Listen-ähnlichen Objekten (z.B. Strings, [Pandas DataFrames](https://pandas.pydata.org/pandas-docs/stable/indexing.html)) sogenannte Slice-Operationen, mit denen beliebige Teile aus der Liste komfortabel herausgeschnitten werden können."
   ]
  },
  {
   "cell_type": "code",
   "execution_count": null,
   "metadata": {
    "ExecuteTime": {
     "end_time": "2018-02-26T17:59:02.077603Z",
     "start_time": "2018-02-26T17:59:02.063567Z"
    },
    "collapsed": true
   },
   "outputs": [],
   "source": [
    "print(\"Alle:             \", my_list)\n",
    "print(\"Erste drei:       \", my_list[:3])\n",
    "print(\"Drei bis Ende:    \", my_list[3:])\n",
    "print(\"Zwei bis vier:    \", my_list[2:5])\n",
    "print(\"Letze drei:       \", my_list[-3:])\n",
    "print(\"Vorletztes:       \", my_list[-8])\n",
    "print(\"1 bis Vorletztes: \", my_list[1:-1])"
   ]
  },
  {
   "cell_type": "markdown",
   "metadata": {},
   "source": [
    "**Aufgabe:**\n",
    "\n",
    "Extrahieren Sie aus dem folgenden String folgende Teil-Strings:\n",
    "  * die ersten 8 Zeichen\n",
    "  * die Zeichen 14 bis 17\n",
    "  * die mittleren 5 Zeichen"
   ]
  },
  {
   "cell_type": "code",
   "execution_count": null,
   "metadata": {
    "ExecuteTime": {
     "end_time": "2018-02-26T17:59:35.459740Z",
     "start_time": "2018-02-26T17:59:35.454732Z"
    },
    "collapsed": true
   },
   "outputs": [],
   "source": [
    "s = \"Programmieren ist kein Zuckerschlecken!\""
   ]
  },
  {
   "cell_type": "markdown",
   "metadata": {},
   "source": [
    "#### List Comprehensions\n",
    "Unter List Comprehensions versteht man die Transformation einzelner Elemente bzw. die Transformation einer ganzen Liste an Hand bestimmter Kriterien in eine neue Liste. Jede List Comprehension lässt sich auch als For-Schleife darstellen, aber nicht jede For-Schleife kann auch als List Comprehension formuliert werden. Man unterscheidet bedingte (enthalten eine If-Bedingung) und unbedingte List Comprehensions (enthalten keine If-Bedingung).\n",
    "\n",
    "Im folgenden Beispiel sollen alle ungeraden Zahlen in einer Liste verdoppelt werden (bedingte List-Comprehension):"
   ]
  },
  {
   "cell_type": "code",
   "execution_count": null,
   "metadata": {
    "ExecuteTime": {
     "end_time": "2018-02-26T17:59:46.214226Z",
     "start_time": "2018-02-26T17:59:46.202195Z"
    },
    "collapsed": true
   },
   "outputs": [],
   "source": [
    "numbers = [1, 2, 3, 4, 5]\n",
    "\n",
    "# Lösung des Problems mit Hilfe einer For-Schleife\n",
    "doubled_odds = []\n",
    "for n in numbers:\n",
    "    if n % 2 == 1:\n",
    "        doubled_odds.append(n * 2)\n",
    "print(doubled_odds)\n",
    "\n",
    "# Umformulierung als List Comprehension    \n",
    "doubled_odds = [n * 2 for n in numbers if n % 2 == 1]\n",
    "print(doubled_odds) # Gleiche Ausgabe wie oben"
   ]
  },
  {
   "cell_type": "markdown",
   "metadata": {},
   "source": [
    "Das nächste Beispiel zeigt eine unbedingte List-Comprehension. Hier werden alle Zahlen in einer Liste verdoppelt. "
   ]
  },
  {
   "cell_type": "code",
   "execution_count": null,
   "metadata": {
    "ExecuteTime": {
     "end_time": "2018-02-26T17:59:47.561446Z",
     "start_time": "2018-02-26T17:59:47.554419Z"
    },
    "collapsed": true
   },
   "outputs": [],
   "source": [
    "# Umformulierung als List Comprehension \n",
    "doubled_numbers = [n * 2 for n in numbers]\n",
    "\n",
    "doubled_numbers"
   ]
  },
  {
   "cell_type": "code",
   "execution_count": null,
   "metadata": {
    "ExecuteTime": {
     "end_time": "2018-02-26T17:59:48.132955Z",
     "start_time": "2018-02-26T17:59:48.121926Z"
    },
    "collapsed": true
   },
   "outputs": [],
   "source": [
    "even_numbers = [x for x in range(5) if x % 2 == 0]\n",
    "squares = [x*x for x in range(5)] \n",
    "even_squares = [x*x for x in even_numbers]\n",
    "\n",
    "print(even_numbers)\n",
    "print(squares)\n",
    "print(even_squares)"
   ]
  },
  {
   "cell_type": "markdown",
   "metadata": {},
   "source": [
    "**Aufgabe**\n",
    "\n",
    "Erzeugen Sie über eine List Comprehension eine Liste, die alle durch 3 teilbaren Zahlen zwischen 20 und 60 (einschließlich) enthält. Das Ergebnis muss so aussehen:\n",
    "\n",
    "    [21, 24, 27, 30, 33, 36, 39, 42, 45, 48, 51, 54, 57, 60]\n"
   ]
  },
  {
   "cell_type": "code",
   "execution_count": null,
   "metadata": {
    "ExecuteTime": {
     "end_time": "2018-02-26T18:00:06.045817Z",
     "start_time": "2018-02-26T18:00:06.036793Z"
    },
    "collapsed": true
   },
   "outputs": [],
   "source": [
    "# Ausdruck anpassen\n",
    "[x for x in range(20)]"
   ]
  },
  {
   "cell_type": "markdown",
   "metadata": {},
   "source": [
    "Mit dem nächsten Befehl können Sie sich die Musterlösung anzeigen lassen."
   ]
  },
  {
   "cell_type": "code",
   "execution_count": null,
   "metadata": {
    "ExecuteTime": {
     "end_time": "2018-02-26T18:00:07.098373Z",
     "start_time": "2018-02-26T18:00:07.093368Z"
    },
    "collapsed": true
   },
   "outputs": [],
   "source": [
    "# Lösung anzeigen\n",
    "import base64\n",
    "crypted_solution = b'Clt4IGZvciB4IGluIHJhbmdlKDIwLCA2MSkgaWYgeCUzID09IDBdCg=='\n",
    "print(base64.b64decode(crypted_solution).decode('utf-8'))"
   ]
  },
  {
   "cell_type": "markdown",
   "metadata": {},
   "source": [
    "#### Verschachtelte List Comprehensions\n",
    "Etwas weniger intuitiv stellt sich die Umformulierung von verschachtelten Schleifen in List Comprehensions dar.\n",
    "Das folgende Beispiel zeigt die Vektorisierung einer 3x3 Matrix (lineare Transformation der Matrix in einen Spaltenvektor) sowohl mit einer verschachtelten For-Schleife, als auch mit einer List Comprehension. Die Matrix ist als Liste von Listen dargestellt:"
   ]
  },
  {
   "cell_type": "code",
   "execution_count": null,
   "metadata": {
    "ExecuteTime": {
     "end_time": "2018-02-26T18:01:12.650376Z",
     "start_time": "2018-02-26T18:01:12.637350Z"
    },
    "collapsed": true
   },
   "outputs": [],
   "source": [
    "matrix = [ [1,2,3],\n",
    "           [4,5,6],\n",
    "           [7,8,9] ]\n",
    "\n",
    "flattened = []\n",
    "for row in matrix:\n",
    "    for n in row:\n",
    "        flattened.append(n)\n",
    "print(flattened)\n",
    "    \n",
    "flattened = [n for row in matrix for n in row]\n",
    "print(flattened)"
   ]
  },
  {
   "cell_type": "markdown",
   "metadata": {},
   "source": [
    "Bei der Arbeit mit verschachtelten Schleifen in List Comprehensions bleiben die For-Anweisungen in der gleichen Reihenfolge wie bei der ursprünglichen Formulierung ausschließlich mit For-Schleifen. Das heißt zunächst wird der Teil `for row in matrix` formuliert. Danach folgt der Teil `for n in row`. "
   ]
  },
  {
   "cell_type": "markdown",
   "metadata": {},
   "source": [
    "<a id=\"Generatoren\"></a>\n",
    "### Generatoren"
   ]
  },
  {
   "cell_type": "markdown",
   "metadata": {},
   "source": [
    "Die Erzeugung von großen Listen, Tupeln, Dictionaries etc. kann sehr aufwändig sein. Werden gar nicht alle Werte durchlaufen, so wird viel Speicher und CPU für nichts verbraucht. Seit Python 3 wird deshalb sehr stark mit Generator-Objekten gearbeitet. Generatoren sind dynamisch erzeugte Iteratoren. Die eigentlichen Werte werden erst bei Bedarf generiert.\n",
    "\n",
    "Ein Beispiel ist der Range-Generator. Die eigentliche Werte-Liste wird erst bei Bedarf erzeugt (*on demand* oder *lazy generation*). Das bring Performance, ist aber bei der Ausgabe zu Testzwecken problematisch. Eine explizite Konvertierung eines Generators `g` in eine Liste über `list(g)` schafft Abhilfe."
   ]
  },
  {
   "cell_type": "code",
   "execution_count": null,
   "metadata": {
    "ExecuteTime": {
     "end_time": "2018-02-26T18:01:44.989278Z",
     "start_time": "2018-02-26T18:01:44.982258Z"
    },
    "collapsed": true
   },
   "outputs": [],
   "source": [
    "my_range = range(5)\n",
    "print(my_range)\n",
    "print(list(my_range))"
   ]
  },
  {
   "cell_type": "markdown",
   "metadata": {},
   "source": [
    "Ähnlich kann das bei allen Funktionen passieren, die aus Listen eigentlich wieder neue Listen erzeugen sollen und das in Python 2 auch tun, aber in Python 3 Generator-Objekte erzeugen. Ein Beispiel ist das Map-Objekt, dessen Bedeutung hier noch nicht wichtig ist. Auch hier kann über `list` die Liste materialisiert werden."
   ]
  },
  {
   "cell_type": "code",
   "execution_count": null,
   "metadata": {
    "ExecuteTime": {
     "end_time": "2018-02-26T18:01:50.902250Z",
     "start_time": "2018-02-26T18:01:50.894258Z"
    },
    "collapsed": true
   },
   "outputs": [],
   "source": [
    "my_list = [1, 3, 5]\n",
    "mapped_list = map(lambda x: 2*x, my_list)\n",
    "print(mapped_list)\n",
    "print(list(mapped_list))"
   ]
  },
  {
   "cell_type": "markdown",
   "metadata": {},
   "source": [
    "### Tupel\n",
    "\n",
    "Siehe auch: https://www.tutorialspoint.com/python/python_tuples.htm.\n",
    "\n",
    "Tupel sind unveränderbare Listen. Sämtliche Listenoperationen können auch mit Tupeln ausgeführt werden, solange diese nicht zur Modifikation der enthaltenen Werte führen. Tupel können entweder mit runden Klammern oder ganz ohne Klammern deklariert werden:"
   ]
  },
  {
   "cell_type": "code",
   "execution_count": null,
   "metadata": {
    "ExecuteTime": {
     "end_time": "2018-02-26T18:02:02.428965Z",
     "start_time": "2018-02-26T18:02:02.413927Z"
    },
    "collapsed": true
   },
   "outputs": [],
   "source": [
    "my_list = [1, 2, 3]\n",
    "my_tuple = (1, 2, 3)\n",
    "another_tuple = 4, 5\n",
    "tuple_from_list = tuple(my_list)\n",
    "\n",
    "print(my_list)\n",
    "print(my_tuple)\n",
    "print(another_tuple)\n",
    "print(tuple_from_list)\n",
    "\n",
    "my_list[1] = 999 # meine_liste enthält nun die Werte [1, 999, 3]\n",
    "try:\n",
    "    my_tuple[1] = 999\n",
    "except TypeError:\n",
    "    print(\"Fehler: Tupel sind nicht veränderbar!\")"
   ]
  },
  {
   "cell_type": "markdown",
   "metadata": {},
   "source": [
    "Mehrere Rückgabewerte von Funktionen können auch in Tupelform dargestellt werden:"
   ]
  },
  {
   "cell_type": "code",
   "execution_count": null,
   "metadata": {
    "ExecuteTime": {
     "end_time": "2018-02-26T18:02:11.074798Z",
     "start_time": "2018-02-26T18:02:11.067778Z"
    },
    "collapsed": true
   },
   "outputs": [],
   "source": [
    "def sum_and_product(x, y):\n",
    "    return (x + y),(x * y)\n",
    "\n",
    "sum_and_product(2, 3)\n"
   ]
  },
  {
   "cell_type": "markdown",
   "metadata": {},
   "source": [
    "Tupel und Listen können auch bei der Mehrfachzuweisung von Variablen eingesetzt werden:"
   ]
  },
  {
   "cell_type": "code",
   "execution_count": null,
   "metadata": {
    "ExecuteTime": {
     "end_time": "2018-02-26T18:02:17.863985Z",
     "start_time": "2018-02-26T18:02:17.859974Z"
    },
    "collapsed": true
   },
   "outputs": [],
   "source": [
    "x, y = 1, 2 # x hat den Wert 1 und  y hat den Wert 2\n",
    "x, y = y, x # Variablentausch; x hat nun den Wert 2 und y hat nun den Wert 1"
   ]
  },
  {
   "cell_type": "markdown",
   "metadata": {},
   "source": [
    "### Dictionaries\n",
    "\n",
    "Siehe auch: https://www.tutorialspoint.com/python/python_dictionary.htm.\n",
    "\n",
    "In Dictionaries werden Schlüssel für einzelne Werte vergeben. Auf diese Weise lassen sich schnell die zu einem gegebenen Schlüssel gehörenden Werte abrufen. Dictionaries werden mit geschweiften Klammern definiert. Dictionaries sind von der Syntax sehr ähnlich zu JSON-Objekten und können auch direkt in JSON konvertiert werden. "
   ]
  },
  {
   "cell_type": "code",
   "execution_count": null,
   "metadata": {
    "ExecuteTime": {
     "end_time": "2018-02-26T18:02:25.705788Z",
     "start_time": "2018-02-26T18:02:25.700776Z"
    },
    "collapsed": true
   },
   "outputs": [],
   "source": [
    "empty_dict = {} \n",
    "grades = { \"Anton\" : 3.7, \"Berta\" : 1.0 } "
   ]
  },
  {
   "cell_type": "markdown",
   "metadata": {},
   "source": [
    "Die vorhandenen Werte für einen bestimmenten Schlüssel können mit eckigen Klammern abgefragt werden. \n",
    "Nachdem Dictionaries als Hash-Maps implementiert sind, ist die Suche nach einem Schlüssel sehr schnell.\n",
    "\n",
    "Ist ein Schlüssel nicht im Dictionary enthalten, gibt Python einen KeyError zurück:"
   ]
  },
  {
   "cell_type": "code",
   "execution_count": null,
   "metadata": {
    "ExecuteTime": {
     "end_time": "2018-02-26T18:02:26.810726Z",
     "start_time": "2018-02-26T18:02:26.804737Z"
    },
    "collapsed": true
   },
   "outputs": [],
   "source": [
    "grade_anton = grades[\"Anton\"] # Liefert 3.7\n",
    "try:\n",
    "    grade_claudia = grades[\"Claudia\"]\n",
    "except KeyError:\n",
    "    print(\"Für Claudia liegt keine Note vor!\")"
   ]
  },
  {
   "cell_type": "markdown",
   "metadata": {},
   "source": [
    "Prüfung auf Existenz eines Keys im Dictionary:"
   ]
  },
  {
   "cell_type": "code",
   "execution_count": null,
   "metadata": {
    "ExecuteTime": {
     "end_time": "2018-02-26T18:02:27.658300Z",
     "start_time": "2018-02-26T18:02:27.651283Z"
    },
    "collapsed": true
   },
   "outputs": [],
   "source": [
    "anton_exists = \"Anton\" in grades # Liefert True\n",
    "claudia_exists = \"Claudia\" in grades # Liefert False\n",
    "print(anton_exists)\n",
    "print(claudia_exists)"
   ]
  },
  {
   "cell_type": "markdown",
   "metadata": {},
   "source": [
    "Wenn Ausnahmen beim Abruf von Werten aus Dictionaries vermieden werden sollen, kann die `get()`-Methode verwendet werden. Statt einer Ausnahme wird ein Defaultwert zurückgeliefert, falls der Schlüssel nicht im Dictionary vorhanden ist:"
   ]
  },
  {
   "cell_type": "code",
   "execution_count": null,
   "metadata": {
    "ExecuteTime": {
     "end_time": "2018-02-26T18:02:28.978811Z",
     "start_time": "2018-02-26T18:02:28.971823Z"
    },
    "collapsed": true
   },
   "outputs": [],
   "source": [
    "print(grades.get(\"Anton\", 0))\n",
    "print(grades.get(\"Claudia\", 0))\n",
    "print(grades.get(\"Niemand\"))"
   ]
  },
  {
   "cell_type": "markdown",
   "metadata": {},
   "source": [
    "Die Veränderung von Werten im Dictionary erfolgt ebenfalls mit eckigen Klammern und dem jeweiligen Schlüssel:"
   ]
  },
  {
   "cell_type": "code",
   "execution_count": null,
   "metadata": {
    "ExecuteTime": {
     "end_time": "2018-02-26T18:02:31.657652Z",
     "start_time": "2018-02-26T18:02:31.652640Z"
    },
    "collapsed": true
   },
   "outputs": [],
   "source": [
    "grades[\"Anton\"] = 2.3 # Ersetzt den alten Wert\n",
    "grades[\"Daniel\"] = 2.0 # Fügt einen neuen Eintrag ein"
   ]
  },
  {
   "cell_type": "markdown",
   "metadata": {},
   "source": [
    "Weitere mögliche Operationen:"
   ]
  },
  {
   "cell_type": "code",
   "execution_count": null,
   "metadata": {
    "ExecuteTime": {
     "end_time": "2018-02-26T18:02:32.103872Z",
     "start_time": "2018-02-26T18:02:32.097833Z"
    },
    "collapsed": true
   },
   "outputs": [],
   "source": [
    "num_students = len(grades) # Liefert den Wert 3\n",
    "type_grades = type(grades) # Liefert <class 'dict'>\n",
    "g = grades.copy() # Kopiert das Dictionary\n",
    "g.clear() # Löscht den Inhalt des Dictionaries; die Variable n enthält nun ein leeres Dictionary"
   ]
  },
  {
   "cell_type": "markdown",
   "metadata": {},
   "source": [
    "Mit Hilfe von Dictionaries lassen sich Daten leicht in strukturierter und gut lesbarer Form darstellen und bearbeiten:"
   ]
  },
  {
   "cell_type": "code",
   "execution_count": null,
   "metadata": {
    "ExecuteTime": {
     "end_time": "2018-02-26T18:02:32.475828Z",
     "start_time": "2018-02-26T18:02:32.466805Z"
    },
    "collapsed": true
   },
   "outputs": [],
   "source": [
    "tweet = {\n",
    "\"user\" : \"pasiphae_goals\",\n",
    "\"text\" : \" I can't update my blog because the coffee shop doesn't expose port 22.\",\n",
    "\"retweet_count\" : 100,\n",
    "\"hashtags\" : [\"#data\", \"#ssh\", \"#notnice\", \"#yolo\"]\n",
    "}\n",
    "\n",
    "print(\"Keys: \", tweet.keys(), \"\\n\")\n",
    "print(\"Values: \", tweet.values(), \"\\n\")\n",
    "print(\"Items: \", tweet.items(), \"\\n\")"
   ]
  },
  {
   "cell_type": "markdown",
   "metadata": {},
   "source": [
    "Mit `in` kann überprüft werden, ob Schlüssel oder Werte im Dictionary enthalten sind. Aber nur die erste Variante unten verwendet den Hash-Zugriff und ist schnell!"
   ]
  },
  {
   "cell_type": "code",
   "execution_count": null,
   "metadata": {
    "ExecuteTime": {
     "end_time": "2018-02-26T18:02:33.499882Z",
     "start_time": "2018-02-26T18:02:33.491858Z"
    },
    "collapsed": true
   },
   "outputs": [],
   "source": [
    "\"user\" in tweet # Prüft ebenfalls ob \"user\" als Schlüssel enthalten ist; liefert True - schnell\n",
    "\"user\" in tweet.keys() # Prüft ob \"user\" als Schlüssel enthalten ist; liefert True - langsam\n",
    "\"pasiphae_goals\" in tweet.values() # Prüft ob \"pasiphae_goals\" als Wert enthalten ist; liefert True"
   ]
  },
  {
   "cell_type": "markdown",
   "metadata": {},
   "source": [
    "Schlüssel von Dictionaries müssen unveränderbar sein. Insbesondere können keine Listen als Schlüssel verwendet werden. Werden mehrteilige Schlüssel benötigt, können jedoch Tupel genutzt werden."
   ]
  },
  {
   "cell_type": "markdown",
   "metadata": {},
   "source": [
    "**Aufgabe:**\n",
    "\n",
    "In einem beliebigen Satz soll die Anzahl der enthaltenen Buchstaben und Ziffern ermittelt werden. \n",
    "Zur Speicherung der Ergebnisse soll ein Dictionary mit den Keys \"Ziffern\" und \"Buchstaben\" angelegt werden.\n",
    "Die Ausgabe soll über das Dictionary erfolgen. \n",
    "\n",
    "Beispielsatz:\n",
    "\"Die zweite vollkommene Zahl ist 28, denn die Summe aller Teiler (1, 2, 4, 7 und 14) ergibt 28.\"\n",
    "\n",
    "Führt zum Dictionary:\n",
    "\n",
    "    { \"Letters\": 59, \"Digits\": 10 }\n",
    "\n",
    "Hinweis: Die Aufgabe ähnelt der [Aufgabe zu den Stringoperationen](#stringaufgabe). Es sind nur minimale Veränderungen notwendig."
   ]
  },
  {
   "cell_type": "code",
   "execution_count": null,
   "metadata": {
    "ExecuteTime": {
     "end_time": "2018-02-26T18:02:41.335793Z",
     "start_time": "2018-02-26T18:02:41.330780Z"
    },
    "collapsed": true
   },
   "outputs": [],
   "source": [
    "s = \"Die zweite vollkommene Zahl ist 28, denn die Summe aller Teiler (1, 2, 4, 7 und 14) ergibt 28.\"\n",
    "\n",
    "# Hier Lösung eintragen\n",
    "d = {}\n",
    "print(d)"
   ]
  },
  {
   "cell_type": "markdown",
   "metadata": {},
   "source": [
    "Mit dem nächsten Befehl können Sie sich die Musterlösung anzeigen lassen."
   ]
  },
  {
   "cell_type": "code",
   "execution_count": null,
   "metadata": {
    "ExecuteTime": {
     "end_time": "2018-02-26T18:02:42.668476Z",
     "start_time": "2018-02-26T18:02:42.637390Z"
    },
    "collapsed": true
   },
   "outputs": [],
   "source": [
    "# Lösung anzeigen\n",
    "import base64\n",
    "crypted_solution = b'CnMgPSAiRGllIHp3ZWl0ZSB2b2xsa29tbWVuZSBaYWhsIGlzdCAyOCwgZGVubiBkaWUgU3VtbWUgYWxsZXIgVGVpbGVyICgxLCAyLCA0LCA3IHVuZCAxNCkgZXJnaWJ0IDI4LiIKCiMgTMO2c3VuZyAxOiBLbGFzc2lzY2ggdW5kIGF1Y2ggZWZmaXppZW50CmQgPSB7IkxldHRlcnMiOiAwLCAiRGlnaXRzIjogMH0KZm9yIGMgaW4gczoKICAgIGlmIGMuaXNhbHBoYSgpOgogICAgICAgIGRbIkxldHRlcnMiXSArPSAxCiAgICBlbGlmIGMuaXNkaWdpdCgpOgogICAgICAgIGRbIkRpZ2l0cyJdICs9IDEKICAgIGVsc2U6CiAgICAgICAgcGFzcyAjIE51bGwtQW53ZWlzdW5nLCB0dXQgbmljaHRzCnByaW50KGQpICAgIAoKIyBMw7ZzdW5nIDI6IEvDvHJ6ZXIsIGFiZXIgZGFmw7xyIGRlZmFjdG8gendlaSBTY2hsZWlmZW4KbGV0dGVycyA9IFtjIGZvciBjIGluIHMgaWYgYy5pc2FscGhhKCldCmRpZ2l0cyA9IFtjIGZvciBjIGluIHMgaWYgYy5pc2RpZ2l0KCldCmQgPSB7ICJMZXR0ZXJzIjogbGVuKGxldHRlcnMpLCAiRGlnaXRzIjogbGVuKGRpZ2l0cyl9CgpwcmludChkKQo='\n",
    "print(base64.b64decode(crypted_solution).decode('utf-8'))"
   ]
  },
  {
   "cell_type": "markdown",
   "metadata": {},
   "source": [
    "### Dictionaries mit automatischer Schlüsselgenerierung (defaultdict)\n",
    "\n",
    "Ein [defaultdict](https://docs.python.org/3.7/library/collections.html#defaultdict-examples) verhält sich wie reguläres Dictionary, mit dem Unterschied, dass bei Aufruf eines noch nicht enthaltenen Schlüssels ein Defaultwert erzeugt wird. Der gewünschte Defaultwert kann bei Erstellung des Defaultdicts mit Hilfe einer Funktion übergeben werden. Mit Hilfe der Erstellung von Defaultwerten, werden Ausnahmen (KeyError) bei Eingabe ungültiger Schlüssel vermieden. Defaultdicts müssen aus dem Pythonmodul `collections` importiert werden. "
   ]
  },
  {
   "cell_type": "code",
   "execution_count": null,
   "metadata": {
    "ExecuteTime": {
     "end_time": "2018-02-26T18:02:49.535155Z",
     "start_time": "2018-02-26T18:02:49.517106Z"
    },
    "collapsed": true
   },
   "outputs": [],
   "source": [
    "doc = ['ich', 'ich','ich', 'bin','bin','hier']\n",
    "word_count = {}\n",
    "\n",
    "#Beispiel ohne Defaultdict - Ausnahmebehandlung notwendig\n",
    "for word in doc:\n",
    "    try:\n",
    "        word_count[word] += 1\n",
    "    except KeyError:\n",
    "        word_count[word] = 1\n",
    "print(word_count)\n",
    "\n",
    "#Beispiel mit Defaultdict - Keine Ausnahmebehandlung notwendig\n",
    "from collections import defaultdict\n",
    "\n",
    "word_count = defaultdict(int) # int liefert 0, wenn Schlüssel noch nicht vorhanden\n",
    "\n",
    "for word in doc:\n",
    "    word_count[word] += 1\n",
    "print(word_count)"
   ]
  },
  {
   "cell_type": "markdown",
   "metadata": {},
   "source": [
    "Defaultdicts können auch in Kombination mit Listen, Dicts oder Funktionen verwendet werden und sind immer dann nützlich, wenn Ergebnisse zu einem bestimmten Schlüssel abgerufen werden sollen, ohne bei jedem Abruf die Existenz des Schlüssels prüfen zu müssen."
   ]
  },
  {
   "cell_type": "code",
   "execution_count": null,
   "metadata": {
    "ExecuteTime": {
     "end_time": "2018-02-26T18:03:04.090677Z",
     "start_time": "2018-02-26T18:03:04.084688Z"
    },
    "collapsed": true
   },
   "outputs": [],
   "source": [
    "dd_list = defaultdict(list) # list liefert eine leere Liste als Defaultwert\n",
    "dd_list[2].append(1) # dd_liste enthält nun {2: [1]}\n",
    "\n",
    "dd_dict = defaultdict(dict) # dict liefert ein leeres Dict als Defaultwert\n",
    "dd_dict[\"Joel\"][\"City\"] = \"Seattle\" # { \"Joel\" : { \"City\" : Seattle\"}}"
   ]
  },
  {
   "cell_type": "markdown",
   "metadata": {},
   "source": [
    "### Counter\n",
    "\n",
    "[Counter](https://docs.python.org/3/library/collections.html?highlight=counter#counter-objects) dienen dazu, schnell die Häufigkeit des Auftretens verschiedener Schlüssel in einer Liste zu ermitteln. Counter müssen ebenfalls aus dem Pythonmodul \"collections\" importiert werden."
   ]
  },
  {
   "cell_type": "code",
   "execution_count": null,
   "metadata": {
    "ExecuteTime": {
     "end_time": "2018-02-26T18:03:06.017429Z",
     "start_time": "2018-02-26T18:03:06.010434Z"
    },
    "collapsed": true
   },
   "outputs": [],
   "source": [
    "from collections import Counter\n",
    "num_list = [0, 1,2, 0, 1, 1, 1, 2, 2, 3]\n",
    "c = Counter(num_list) \n",
    "print(c)"
   ]
  },
  {
   "cell_type": "markdown",
   "metadata": {},
   "source": [
    "Counter Instanzen beinhalten die Methode *most_common()*. Die Methode ist nützlich, wenn nur die häufigsten Vorkommnisse ausgegeben werden sollen:"
   ]
  },
  {
   "cell_type": "code",
   "execution_count": null,
   "metadata": {
    "ExecuteTime": {
     "end_time": "2018-02-26T18:03:06.850641Z",
     "start_time": "2018-02-26T18:03:06.843620Z"
    },
    "collapsed": true
   },
   "outputs": [],
   "source": [
    "doc = ['ich', 'ich','ich', 'bin','bin','hier','wer','wer','wer','wer','noch']\n",
    "word_count = Counter(doc)\n",
    "\n",
    "# Ermittlung der drei häufigsten Wörter und ihrer Anzahl\n",
    "print(word_count)\n",
    "print(word_count.most_common(3))"
   ]
  },
  {
   "cell_type": "markdown",
   "metadata": {},
   "source": [
    "### Sets\n",
    "Sets sind Sammlungen von eindeutigen Elementen. Mit Sets lassen sich einige Operationen schneller durchführen als mit Listen (z.B. Test ob ein Element enthalten ist oder nicht). Sets eignen sich außerdem gut, wenn eindeutige Elemente bzw. deren Anzahl gefunden werden soll."
   ]
  },
  {
   "cell_type": "code",
   "execution_count": null,
   "metadata": {
    "ExecuteTime": {
     "end_time": "2018-02-26T18:03:08.502027Z",
     "start_time": "2018-02-26T18:03:08.473953Z"
    },
    "collapsed": true,
    "scrolled": true
   },
   "outputs": [],
   "source": [
    "s = set()\n",
    "s.add(1) # s liefert nun { 1 }\n",
    "s.add(2) # s liefert nun { 1, 2 }\n",
    "s.add(2) # s bleibt unverändert { 1, 2 }\n",
    "x = len(s) # Die Länge von s ist 2\n",
    "y = 2 in s # liefert True, da die Zahl 2 in s vorkommt\n",
    "z = 3 in s # liefert False, da die Zahl 3 nicht in s vorkommt\n",
    "\n",
    "word_list = [\"auf\",\"dem\",\"Baum\"]\n",
    "\"Blume\" in word_list # Liefert False aber jedes Listenelement muss geprüft werden\n",
    "\n",
    "word_set = set(word_list) # Konvertierung von List nach Set\n",
    "\"Blume\" in word_set # Liefert ebenfalls False, jedoch schneller\n",
    "\n",
    "my_list = [1, 2, 3, 1, 2, 3]\n",
    "print(my_list, \" -> \", len(my_list))\n",
    "\n",
    "# Umwandlung von Liste in Set, macht Werte eindeutig\n",
    "my_set = set(my_list)\n",
    "print(my_set, \" -> \", len(my_set))\n",
    "\n",
    "# Umwandlung von Set in Liste, welche nur die eindeutigen Element enthält: [1, 2, 3]\n",
    "unique_elem_list = list(my_set)\n",
    "print(unique_elem_list, \" -> \", len(unique_elem_list))\n"
   ]
  },
  {
   "cell_type": "markdown",
   "metadata": {},
   "source": [
    "<a id=\"Funktionen_und_Module\"></a>\n",
    "## Funktionen und Module"
   ]
  },
  {
   "cell_type": "markdown",
   "metadata": {},
   "source": [
    "### Funktionen\n",
    "Funktionen werden in Python mit `def` gekennzeichnet. \n",
    "Der Geltungsbereich von Variablen unterscheidet sich, je nachdem ob diese innerhalb der Funktion (lokale Variable) oder außerhalb der Funktion (globale Variable) deklariert werden. Auf globale Variablen kann im gesamten Programm zugegriffen werden, während sich der Geltungsbereich lokaler Variablen auf die Funktion beschränkt, in der sie definiert wurden.\n",
    "\n",
    "Beispiele für Funktionen:"
   ]
  },
  {
   "cell_type": "code",
   "execution_count": null,
   "metadata": {
    "ExecuteTime": {
     "end_time": "2018-02-26T18:03:23.350489Z",
     "start_time": "2018-02-26T18:03:23.342465Z"
    },
    "collapsed": true
   },
   "outputs": [],
   "source": [
    "def times2(x):\n",
    "    \"\"\"Verdopplung von x\n",
    "    \n",
    "    Diese Funktion multipliziert den \n",
    "    Eingabewert mit 2.\"\"\"\n",
    "    return x * 2\n",
    "\n",
    "value = 3\n",
    "print(\"times2: %d\" % times2(value))"
   ]
  },
  {
   "cell_type": "markdown",
   "metadata": {},
   "source": [
    "Ebenfalls möglich:"
   ]
  },
  {
   "cell_type": "code",
   "execution_count": null,
   "metadata": {
    "ExecuteTime": {
     "end_time": "2018-02-26T18:03:24.592788Z",
     "start_time": "2018-02-26T18:03:24.587776Z"
    },
    "collapsed": true
   },
   "outputs": [],
   "source": [
    "def times2_short(x): return 2 * x"
   ]
  },
  {
   "cell_type": "markdown",
   "metadata": {
    "collapsed": true
   },
   "source": [
    "Funktionen können auch als Variable an andere Funktionen übergeben werden:"
   ]
  },
  {
   "cell_type": "code",
   "execution_count": null,
   "metadata": {
    "ExecuteTime": {
     "end_time": "2018-02-26T18:03:25.515241Z",
     "start_time": "2018-02-26T18:03:25.508222Z"
    },
    "collapsed": true
   },
   "outputs": [],
   "source": [
    "def apply_to_one(f):\n",
    "    \"\"\"Ruft die Funktion f mit 1 als Argument auf.\"\"\"\n",
    "    return f(1)\n",
    "\n",
    "print(apply_to_one(times2))"
   ]
  },
  {
   "cell_type": "markdown",
   "metadata": {},
   "source": [
    "**Aufgabe:**\n",
    "\n",
    "Die folgende Methode liegt in der falschen Programmiersprache vor. Nehmen Sie die notwendigen Anpassungen vor, damit die Methode von Python verstanden wird.\n",
    "\n",
    "Summenfunktion:\n",
    "\n",
    "    public static double add_numbers(n1, n2) {\n",
    "        return n1 + n2\n",
    "    }\n",
    "  "
   ]
  },
  {
   "cell_type": "code",
   "execution_count": null,
   "metadata": {
    "ExecuteTime": {
     "end_time": "2018-02-26T18:03:27.594011Z",
     "start_time": "2018-02-26T18:03:27.580985Z"
    },
    "collapsed": true
   },
   "outputs": [],
   "source": [
    "# Hier den Code einfügen\n",
    "\n",
    "print(add_numbers(1, 2))"
   ]
  },
  {
   "cell_type": "markdown",
   "metadata": {},
   "source": [
    "Den Funktionsparametern können auch Defaultargumente vergeben werden:"
   ]
  },
  {
   "cell_type": "code",
   "execution_count": null,
   "metadata": {
    "ExecuteTime": {
     "end_time": "2018-03-13T08:01:51.780543Z",
     "start_time": "2018-03-13T08:01:51.751439Z"
    },
    "collapsed": true
   },
   "outputs": [],
   "source": [
    "def message(msg=\"Meine Standardnachricht\"):\n",
    "    print(msg)\n",
    "\n",
    "message(\"hallo\") # Ausgabe: \"hallo\"\n",
    "message() # Ausgabe: \"Meine Standardnachricht\"\n",
    "\n",
    "\n",
    "def add(a=0, b=0):\n",
    "    return a + b\n",
    "add(10, 5) # Returnwert: 15\n",
    "add(0, 5) # Returnwert: 5\n",
    "add(b=2) # Returnwert: 2"
   ]
  },
  {
   "cell_type": "markdown",
   "metadata": {},
   "source": [
    "### Anonyme Funktionen: Lambda\n",
    "\n",
    "Ähnlich wie in C# oder Java lassen sich auch Lambda-Ausdrücke (anonyme Funktionen) formulieren. Lambda-Ausdrücke können immer dann verwendet werden, wenn der Funktionswert durch einen einzelnen Ausdruck berechnet werden kann.\n",
    "\n",
    "Im folgenden Beispiel wird der Lambda-Ausdruck als Funktionsargument übergeben:"
   ]
  },
  {
   "cell_type": "code",
   "execution_count": null,
   "metadata": {
    "ExecuteTime": {
     "end_time": "2018-02-26T18:03:29.857628Z",
     "start_time": "2018-02-26T18:03:29.845599Z"
    },
    "collapsed": true
   },
   "outputs": [],
   "source": [
    "# Beispiel: Nutzung von Lambda-Ausdrücken als Funktionsparameter\n",
    "y = apply_to_one(lambda x: x + 3) # Das Ergebnis ist 4\n",
    "print(\"y = %d\" % y)\n",
    "\n",
    "# Vergleich Lambda-Ausdruck und Funktion:\n",
    "f = lambda x: x**2\n",
    "\n",
    "# ist das gleiche wie:\n",
    "def squared(x):\n",
    "    return x**2\n",
    "f = squared\n",
    "\n",
    "x = 5\n",
    "print(\"f(%d) = %d\" % (x, f(x)))"
   ]
  },
  {
   "cell_type": "markdown",
   "metadata": {},
   "source": [
    "**Aufgabe**\n",
    "\n",
    "Mit Hilfe der Built-in Methode `filter()` sollen aus einer folgenden Liste alle geraden Zahlen gefiltert werden.\n",
    "Die Methode erwartet eine Funktion und ein abzählbares Objekt als Argumente. \n",
    "Verwenden Sie für das erste Funktionsargument einen Lambda-Ausdruck.\n",
    "\n",
    "Zusatzaufgabe: Können Sie das auch über eine List Comprehension lösen?\n",
    "\n",
    "**Hinweise:**\n",
    "\n",
    "* Beschreibungen zu den Built-in Methoden von Python finden sich [hier](https://docs.python.org/3/library/functions.html#filter)\n",
    "* Achten Sie bei Verwendung von Python 3 mit Hilfe von `list()` darauf, dass die Ausgabe wieder eine Liste ist. Filter erzeugt ein Generator-Objekt."
   ]
  },
  {
   "cell_type": "code",
   "execution_count": null,
   "metadata": {
    "ExecuteTime": {
     "end_time": "2018-03-13T08:05:07.229135Z",
     "start_time": "2018-03-13T08:05:07.223143Z"
    },
    "collapsed": true
   },
   "outputs": [],
   "source": [
    "my_list = [1, 2, 3, 4, 5, 6, 7, 8, 9, 10]\n",
    "\n",
    "even_numbers = # Hier Lösung eingeben - ist ein Einzeiler\n",
    "print(even_numbers)"
   ]
  },
  {
   "cell_type": "code",
   "execution_count": null,
   "metadata": {
    "ExecuteTime": {
     "end_time": "2018-03-13T08:05:07.621175Z",
     "start_time": "2018-03-13T08:05:07.608168Z"
    },
    "collapsed": true
   },
   "outputs": [],
   "source": [
    "# Lösung anzeigen\n",
    "import base64\n",
    "crypted_solution = b'Cm15X2xpc3QgPSBbMSwgMiwgMywgNCwgNSwgNiwgNywgOCwgOSwgMTBdCgojIEzDtnN1bmcgbWl0IGZpbHRlcgpldmVuX251bWJlcnMgPSBsaXN0KGZpbHRlcihsYW1iZGEgeDogeCUyPT0wLCBteV9saXN0KSkKcHJpbnQoZXZlbl9udW1iZXJzKQoKIyBMw7ZzdW5nIG1pdCBMaXN0IENvbXByZWhlbnNpb24KZXZlbl9udW1iZXJzID0gW3ggZm9yIHggaW4gbXlfbGlzdCBpZiB4JTI9PTBdCnByaW50KGV2ZW5fbnVtYmVycykK'\n",
    "print(base64.b64decode(crypted_solution).decode('utf-8'))"
   ]
  },
  {
   "cell_type": "markdown",
   "metadata": {},
   "source": [
    "### Module (Packages)\n",
    "\n",
    "Einige Funktionalitäten von Python stehen nicht standardmäßig zur Verfügung. \n",
    "Das betrifft sowohl Funktionen, die Teil der Programmiersprache sind, \n",
    "als auch Bibliotheken von Drittanbietern die vorher heruntergeladen werden müssen.\n",
    "Um solche zusätzlichen Funktionen innerhalb eines Namensraums nutzen zu können,\n",
    "müssen die Module, welche die gewünschten Funktionen enthalten, zunächst importiert werden.\n",
    "Sämtliche Importe befinden sich im Regelfall am Anfang des Skriptes.\n",
    "\n",
    "Eine Variante Module zu importieren sieht folgendermaßen aus:"
   ]
  },
  {
   "cell_type": "code",
   "execution_count": null,
   "metadata": {
    "ExecuteTime": {
     "end_time": "2018-02-26T18:03:40.910233Z",
     "start_time": "2018-02-26T18:03:40.898225Z"
    },
    "collapsed": true
   },
   "outputs": [],
   "source": [
    "import re # Modul für Regular Expressions\n",
    "sentence = \"Die Zahl 2427 ergibt potenziert mit ihrer Stelle in der Zahl (1,2,3,4), die Zahl selbst.\"\n",
    "number_from_string = re.findall(r\"\\d+\", sentence) # Finde alle Ziffern über den regulären Ausdruck\n",
    "print(number_from_string)\n",
    "\n",
    "import random # Modul für Zufallszahlen\n",
    "for i in range(5):\n",
    "    rnd = random.randrange(1, 10)\n",
    "    print(rnd)"
   ]
  },
  {
   "cell_type": "markdown",
   "metadata": {},
   "source": [
    "Mit der oben beschriebenen Importvariante lassen sich Funktionen des Moduls nur mit dem Präfix \"re\" (z.B. re.findall()) bzw. \"random\" (z.B. random.randrange()) aufrufen.\n",
    "\n",
    "Module können jedoch auch mit einem Alias versehen werden. Ein Alias wird mit \"as\" gekennzeichnet:"
   ]
  },
  {
   "cell_type": "code",
   "execution_count": null,
   "metadata": {
    "ExecuteTime": {
     "end_time": "2018-02-26T18:03:42.530538Z",
     "start_time": "2018-02-26T18:03:42.521514Z"
    },
    "collapsed": true
   },
   "outputs": [],
   "source": [
    "import re as regex\n",
    "number_from_string = regex.findall(r\"\\d+\", \"Für die Zahl 1676 gilt das gleiche.\")\n",
    "print(number_from_string)\n",
    "\n",
    "import random as r\n",
    "for i in range(5):\n",
    "    rnd = r.randrange(1, 10)\n",
    "    print(rnd)"
   ]
  },
  {
   "cell_type": "markdown",
   "metadata": {},
   "source": [
    "Präfixe sind insbesondere bei langen Modulnamen oder bei bereits als Variablennamen vergebenen Modulbezeichnungen sinnvoll.\n",
    "Für die Verwendung von weit verbreiteten Modulen haben sich bestimmte Konventionen für Aliasnamen entwickelt.\n",
    "\n",
    "Zwei Beispiele für solche Konventionen:"
   ]
  },
  {
   "cell_type": "code",
   "execution_count": null,
   "metadata": {
    "ExecuteTime": {
     "end_time": "2018-02-26T18:03:43.632569Z",
     "start_time": "2018-02-26T18:03:42.962686Z"
    },
    "collapsed": true
   },
   "outputs": [],
   "source": [
    "import matplotlib.pyplot as plt\n",
    "import pandas as pd"
   ]
  },
  {
   "cell_type": "markdown",
   "metadata": {},
   "source": [
    "Wenn nur einige bestimmte Funktionen innerhalb des Moduls benötigt werden, können diese wie im nachfolgenden Beispiel  importiert und dann ohne Präfix verwendet werden. Das Beispiel illustiert darüber hinaus die [formatierte Ausgabe](https://www.python-kurs.eu/python3_formatierte_ausgabe.php) mit der `print`-Funktion, angelehnt im Stil von `printf` in C."
   ]
  },
  {
   "cell_type": "code",
   "execution_count": null,
   "metadata": {
    "ExecuteTime": {
     "end_time": "2018-02-26T18:03:44.791546Z",
     "start_time": "2018-02-26T18:03:44.786537Z"
    },
    "collapsed": true
   },
   "outputs": [],
   "source": [
    "from random import randrange\n",
    "print(\"Zufallszahl zwischen 1 und 10: %d\" % randrange(1, 11))"
   ]
  },
  {
   "cell_type": "markdown",
   "metadata": {},
   "source": [
    "Es ist außerdem möglich den gesamten Inhalt eines Moduls in den Namensraum zu importieren. Hier ist jedoch Vorsicht geboten, da bereits definierte Variablen unbeabsichtigt überschrieben werden könnten:"
   ]
  },
  {
   "cell_type": "code",
   "execution_count": null,
   "metadata": {
    "ExecuteTime": {
     "end_time": "2018-02-26T18:03:45.607022Z",
     "start_time": "2018-02-26T18:03:45.602009Z"
    },
    "collapsed": true
   },
   "outputs": [],
   "source": [
    "from re import * # Vorsicht! das \"re\" Modul beinhaltet eine Funktion mit dem Namen \"match\"\n",
    "match = 10\n",
    "print(match)"
   ]
  },
  {
   "cell_type": "markdown",
   "metadata": {},
   "source": [
    "<a id=\"Boolesche Operatoren\"></a>\n",
    "## Boolesche Operatoren\n",
    "Boolsche Operatoren funktionieren in Python wie in den meisten anderen Programmiersprachen auch. Ein wichtiger Unterschied ist jedoch, dass diese in Python mit einem Großbuchstaben beginnen. Leere Variablen können mit dem Wert \"None\" deklariert werden. Der Wert ist ähnlich zu \"null\" in anderen Programmiersprachen."
   ]
  },
  {
   "cell_type": "code",
   "execution_count": null,
   "metadata": {
    "ExecuteTime": {
     "end_time": "2018-02-26T18:04:47.710264Z",
     "start_time": "2018-02-26T18:04:47.704247Z"
    },
    "collapsed": true
   },
   "outputs": [],
   "source": [
    "one_is_smaller_than_two = 1 < 2 # Liefert True\n",
    "true_equals_false = True == False # Liefert False"
   ]
  },
  {
   "cell_type": "markdown",
   "metadata": {},
   "source": [
    "Grundsätzlich gibt es zwei Wege, um zu prüfen, ob eine Variable leer ist:"
   ]
  },
  {
   "cell_type": "code",
   "execution_count": null,
   "metadata": {
    "ExecuteTime": {
     "end_time": "2018-02-26T18:04:48.921700Z",
     "start_time": "2018-02-26T18:04:48.916687Z"
    },
    "collapsed": true
   },
   "outputs": [],
   "source": [
    "x = None\n",
    "print(x == None) # Liefert True\n",
    "print(x is None) # Liefert True"
   ]
  },
  {
   "cell_type": "markdown",
   "metadata": {},
   "source": [
    "Die beiden Möglichkeiten unterscheiden sich wie folgt:\n",
    "* \"==\" Prüft die Äquivalenz zweier Objekte\n",
    "* \"is\" prüft die die Identität zweier Objekte\n",
    "\n",
    "Das Beispiel verdeutlicht den Unterschied:"
   ]
  },
  {
   "cell_type": "code",
   "execution_count": null,
   "metadata": {
    "ExecuteTime": {
     "end_time": "2018-02-26T18:04:50.784653Z",
     "start_time": "2018-02-26T18:04:50.777636Z"
    },
    "collapsed": true
   },
   "outputs": [],
   "source": [
    "lst = [1,2,3]\n",
    "lst == lst[:]  # Die Prüfung liefert True, da die Listen äquivalent sind (d.h. den gleichen Inhalt haben)\n",
    "lst is lst[:]  # Die Prüfung liefert False, da es sich um zwei unterschiedliche Objekte handelt"
   ]
  },
  {
   "cell_type": "markdown",
   "metadata": {},
   "source": [
    "Die folgenden Werte werden in Python wie \"False\" behandelt:\n",
    "* False\n",
    "* None\n",
    "* [] (Leere Liste)\n",
    "* {} (Leeres Dictionary)\n",
    "* \"\"\n",
    "* set()\n",
    "* 0\n",
    "* 0.0\n",
    "\n",
    "Alle anderen Werte werden wie \"True\" behandelt."
   ]
  },
  {
   "cell_type": "code",
   "execution_count": null,
   "metadata": {
    "ExecuteTime": {
     "end_time": "2018-03-12T14:35:43.138686Z",
     "start_time": "2018-03-12T14:35:43.131693Z"
    },
    "collapsed": true
   },
   "outputs": [],
   "source": [
    "s = \"Ein String\"\n",
    "if s:\n",
    "    first_char = s[0]\n",
    "else:\n",
    "    first_char = \"\"\n",
    "# erster_char enthält den ersten Buchstaben des Strings oder einen leeren String, wenn s leer ist.\n",
    "print(first_char)"
   ]
  },
  {
   "cell_type": "code",
   "execution_count": null,
   "metadata": {
    "ExecuteTime": {
     "end_time": "2018-03-12T14:35:48.125756Z",
     "start_time": "2018-03-12T14:35:48.108709Z"
    },
    "collapsed": true
   },
   "outputs": [],
   "source": [
    "l=[]\n",
    "for i in range(1000, 1501):\n",
    "    if (i%7==0) and (i%5!=0):\n",
    "        l.append(str(i))\n",
    "\n",
    "for item in l:\n",
    "    print(item, end=\",\")"
   ]
  },
  {
   "cell_type": "markdown",
   "metadata": {},
   "source": [
    "<a id=\"Dateizugriff\"></a>\n",
    "## Dateizugriff\n"
   ]
  },
  {
   "cell_type": "markdown",
   "metadata": {},
   "source": [
    "Damit die nachfolgenden Beispiele tatsächlich funktionieren, müssen die entsprechenden Dateien im aktuellen Verzeichnis liegen. Laden Sie sich ggf. eine Beispieldatei in das Verzeichnis dieses Notebooks."
   ]
  },
  {
   "cell_type": "code",
   "execution_count": null,
   "metadata": {
    "ExecuteTime": {
     "end_time": "2018-03-12T14:37:24.733592Z",
     "start_time": "2018-03-12T14:37:24.724568Z"
    },
    "collapsed": true
   },
   "outputs": [],
   "source": [
    "import os\n",
    "# Print current working directory (cwd) and list files\n",
    "print(\"Files in \"+os.getcwd())\n",
    "for f in os.listdir():\n",
    "    print (\"    \"+f)\n"
   ]
  },
  {
   "cell_type": "markdown",
   "metadata": {},
   "source": [
    "### Datei öffnen und Inhalt lesen\n",
    "\n",
    "Dateien lassen sich mit der Methode open() öffnen. Die Methode benötigt als Parameter den Dateipfad und den Modus in dem die Datei genutzt werden soll. Folgende Modi stehen zur Verfügung\n",
    "\n",
    "* \"r\" - nur lesen\n",
    "* \"w\" - nur schreiben; bereits in der Datei vorhandene Daten werden beim Schreibvorgang gelöscht\n",
    "* \"a\" - anhängen; bei Schreibvorgängen werden die Daten am Ende hinzugefügt\n",
    "* \"r+\" - schreiben und lesen\n",
    "\n",
    "Dateien mit Sonderzeichen (insbesondere deutsche Umlaute) müssen meist explizit mit `encoding='utf8'` geöffnet werden.\n",
    "\n",
    "Beispiele:"
   ]
  },
  {
   "cell_type": "code",
   "execution_count": null,
   "metadata": {
    "ExecuteTime": {
     "end_time": "2018-03-13T09:27:25.695906Z",
     "start_time": "2018-03-13T09:27:25.674853Z"
    },
    "collapsed": true
   },
   "outputs": [],
   "source": [
    "#Einfaches Lesen einer Datei\n",
    "f = open(\"resources/purple_cow.txt\", \"r\")\n",
    "line = f.readline() # liest eine Zeile\n",
    "content = f.read() # liest ganzen Text\n",
    "f.seek(0) # setzt Lesezeiger wieder auf Anfang\n",
    "lines = f.readlines() # erzeugt eine Liste mit einem Eintrag pro Zeile\n",
    "f.close()\n",
    "\n",
    "print(line)\n",
    "print(content)\n",
    "print()\n",
    "print(lines)"
   ]
  },
  {
   "cell_type": "code",
   "execution_count": null,
   "metadata": {
    "ExecuteTime": {
     "end_time": "2018-03-13T09:27:26.825595Z",
     "start_time": "2018-03-13T09:27:26.819573Z"
    },
    "collapsed": true
   },
   "outputs": [],
   "source": [
    "# Lesen mit Hilfe einer For-Schleife\n",
    "f = open(\"resources/purple_cow.txt\", \"r\")\n",
    "for line in f:\n",
    "    print (line, end = \"\") # kein Zeilenumbruch, da der ja schon in der Zeile als \\n steht\n",
    "f.close()\n"
   ]
  },
  {
   "cell_type": "markdown",
   "metadata": {},
   "source": [
    "### Öffnen mit `with`\n",
    "\n",
    "Die beste Variante für das Öffnen von Dateien verwendet das [`with`-Statement](http://effbot.org/zone/python-with-statement.htm), das analog zu \"using\" in C# oder \"try-with-resources\" in Java arbeitet. Eine Ressource, d.h. ein Objekt einer Klasse, die über eine `close()`-Funktion verfügt, wird geöffnet und nach Beendigung von `with` auf jeden Fall geschlossen, egal, ob eine Exception auftrat oder nicht. Der explizite `close`-Aufruf ist damit obsolet."
   ]
  },
  {
   "cell_type": "code",
   "execution_count": null,
   "metadata": {
    "ExecuteTime": {
     "end_time": "2018-03-13T09:27:37.690811Z",
     "start_time": "2018-03-13T09:27:37.683791Z"
    },
    "collapsed": true
   },
   "outputs": [],
   "source": [
    "with open(\"resources/purple_cow.txt\", \"r\") as f:\n",
    "    for line in f:\n",
    "        print (line, end = \"\") # kein Zeilenumbruch, da der ja schon in der Zeile als \\n steht   "
   ]
  },
  {
   "cell_type": "code",
   "execution_count": null,
   "metadata": {
    "ExecuteTime": {
     "end_time": "2018-03-13T09:27:38.971125Z",
     "start_time": "2018-03-13T09:27:38.962126Z"
    },
    "collapsed": true
   },
   "outputs": [],
   "source": [
    "# Schreiben in eine Datei - a: append\n",
    "with open(\"my_file.txt\", \"a\", encoding=\"utf8\") as f:\n",
    "    f.write(\"\\nPython ist toll.\")\n",
    "    f.write(\"\\nDieser Satz wird hinzugefügt.\")\n",
    "\n",
    "# und wieder auslesen\n",
    "with open(\"my_file.txt\", \"r\", encoding=\"utf8\") as f:\n",
    "    print(f.read())\n",
    "    "
   ]
  },
  {
   "cell_type": "markdown",
   "metadata": {},
   "source": [
    "### Binärdateien\n",
    "\n",
    "Videos oder Bilder lassen sich im \"Write-Binary\" oder \"Read-Binary\" Modus verarbeiten. Dazu müssen lediglich die Argumente in der Methode `open()` in \"wb\" bzw. \"rb\" geändert werden.\n",
    "\n",
    "Beispiel:\n",
    "\n",
    "    photo = open(\"my_photo.jpg\", \"rb\")"
   ]
  },
  {
   "cell_type": "markdown",
   "metadata": {},
   "source": [
    "## Nützliches\n",
    "\n",
    "https://ipython.org/ipython-doc/dev/interactive/magics.html\n",
    "\n",
    "    Timeit und timer.timeit"
   ]
  },
  {
   "cell_type": "code",
   "execution_count": 9,
   "metadata": {
    "ExecuteTime": {
     "end_time": "2018-07-10T14:30:28.496931Z",
     "start_time": "2018-07-10T14:30:28.491934Z"
    }
   },
   "outputs": [
    {
     "name": "stderr",
     "output_type": "stream",
     "text": [
      "UsageError: option -r requires argument ( allowed: \"n:r:tcp:qo\" )\n"
     ]
    }
   ],
   "source": [
    "%%timeit -r1 \n",
    "import time\n",
    "\n",
    "for i in range(3):\n",
    "    print(i)\n",
    "    time.sleep(0.5)"
   ]
  },
  {
   "cell_type": "markdown",
   "metadata": {},
   "source": [
    "# Ende des Notebooks <div class=\"tocSkip\">"
   ]
  }
 ],
 "metadata": {
  "kernelspec": {
   "display_name": "Python 3",
   "language": "python",
   "name": "python3"
  },
  "language_info": {
   "codemirror_mode": {
    "name": "ipython",
    "version": 3
   },
   "file_extension": ".py",
   "mimetype": "text/x-python",
   "name": "python",
   "nbconvert_exporter": "python",
   "pygments_lexer": "ipython3",
   "version": "3.6.6"
  },
  "toc": {
   "nav_menu": {
    "height": "759px",
    "width": "463px"
   },
   "number_sections": true,
   "sideBar": true,
   "skip_h1_title": true,
   "title_cell": "Table of Contents",
   "title_sidebar": "Contents",
   "toc_cell": true,
   "toc_position": {
    "height": "816px",
    "left": "687px",
    "top": "138px",
    "width": "267px"
   },
   "toc_section_display": true,
   "toc_window_display": true
  }
 },
 "nbformat": 4,
 "nbformat_minor": 2
}
